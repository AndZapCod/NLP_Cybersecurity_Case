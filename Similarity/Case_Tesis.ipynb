{
  "nbformat": 4,
  "nbformat_minor": 0,
  "metadata": {
    "colab": {
      "provenance": [],
      "collapsed_sections": [
        "YRNiC3epbJZE",
        "8qbN6jLJP1Yt",
        "gAvOo9kTuMKz"
      ]
    },
    "kernelspec": {
      "display_name": "Python 3",
      "name": "python3"
    },
    "language_info": {
      "name": "python"
    }
  },
  "cells": [
    {
      "cell_type": "code",
      "metadata": {
        "id": "tLQizekz7vfo"
      },
      "source": [
        "import os\n",
        "import pandas as pd\n",
        "import numpy as np"
      ],
      "execution_count": null,
      "outputs": []
    },
    {
      "cell_type": "code",
      "metadata": {
        "colab": {
          "base_uri": "https://localhost:8080/"
        },
        "id": "1v7tG5BWo95n",
        "outputId": "3f721e38-7920-4f0d-d870-11b62e37ca53"
      },
      "source": [
        "from google.colab import drive\n",
        "drive.mount('/content/drive')"
      ],
      "execution_count": null,
      "outputs": [
        {
          "output_type": "stream",
          "name": "stdout",
          "text": [
            "Mounted at /content/drive\n"
          ]
        }
      ]
    },
    {
      "cell_type": "code",
      "metadata": {
        "id": "MMP5WrR_7_3O"
      },
      "source": [
        "os.chdir('/content/drive/MyDrive/Proyectos/Tesis/Similarity')"
      ],
      "execution_count": null,
      "outputs": []
    },
    {
      "cell_type": "code",
      "metadata": {
        "colab": {
          "base_uri": "https://localhost:8080/"
        },
        "id": "tkGEHJVa8DyS",
        "outputId": "7766ebf0-6319-4579-afd5-002a026f55ba"
      },
      "source": [
        "data = pd.read_csv(\"Data/translated_tweets.tsv\", sep='\\t', lineterminator='\\n')\n",
        "data.info()"
      ],
      "execution_count": null,
      "outputs": [
        {
          "output_type": "stream",
          "name": "stdout",
          "text": [
            "<class 'pandas.core.frame.DataFrame'>\n",
            "RangeIndex: 7077 entries, 0 to 7076\n",
            "Data columns (total 8 columns):\n",
            " #   Column                Non-Null Count  Dtype  \n",
            "---  ------                --------------  -----  \n",
            " 0   id_str                7077 non-null   int64  \n",
            " 1   text                  7077 non-null   object \n",
            " 2   from_user             7077 non-null   object \n",
            " 3   created_at            7077 non-null   object \n",
            " 4   user_followers_count  7077 non-null   int64  \n",
            " 5   user_friends_count    7077 non-null   float64\n",
            " 6   clean_text            7077 non-null   object \n",
            " 7   translated_text       7077 non-null   object \n",
            "dtypes: float64(1), int64(2), object(5)\n",
            "memory usage: 442.4+ KB\n"
          ]
        }
      ]
    },
    {
      "cell_type": "code",
      "metadata": {
        "id": "jR0liQ8ruFTn"
      },
      "source": [
        "import re\n",
        "import string\n",
        "\n",
        "#PUNCTUATION_RE = re.compile('[¡!?¿,.:;\\']')\n",
        "PUNCTUATION_RE = re.compile('[^\\w\\s]')\n",
        "\n",
        "def clean_text(s):\n",
        "  ##### NEW #####\n",
        "  s = ' '.join(list(filter(lambda x: x[0] != '#', s.split())))\n",
        "  ###############\n",
        "  s = re.sub(PUNCTUATION_RE, ' ', s)\n",
        "  #s = s.translate(str.maketrans('','',string.punctuation))\n",
        "  s = s.lower()\n",
        "  return s"
      ],
      "execution_count": null,
      "outputs": []
    },
    {
      "cell_type": "code",
      "metadata": {
        "colab": {
          "base_uri": "https://localhost:8080/",
          "height": 337
        },
        "id": "BQs6kgCVexmI",
        "outputId": "ce735189-d6ea-462a-9199-a75c283d79e7"
      },
      "source": [
        "data['translated_text'] = data['translated_text'].apply(clean_text)\n",
        "data['clean_text'] = data['clean_text'].apply(clean_text)\n",
        "\n",
        "##### NEW #####\n",
        "#data['translated_text'].replace('', np.nan, inplace=True)\n",
        "#data['clean_text'].replace('', np.nan, inplace=True)\n",
        "#data['translated_text'].replace(' ', np.nan, inplace=True)\n",
        "#data['clean_text'].replace(' ', np.nan, inplace=True)\n",
        "#data = data.dropna()\n",
        "###############\n",
        "data.head()"
      ],
      "execution_count": null,
      "outputs": [
        {
          "output_type": "execute_result",
          "data": {
            "text/plain": [
              "                id_str                                               text  \\\n",
              "0  1453511771793371139  #ParoNacional ay está lindo el paro #NoAlParo ...   \n",
              "1  1453511632521502721  @wilfridolaz La gente sabe !! La gente entiend...   \n",
              "2  1453511317394968576  ¡Que belleza!  Deja ordenando que le archiven ...   \n",
              "3  1453511181805752330  @LassoGuillermo Si, pero vaya a la @AsambleaEc...   \n",
              "4  1453511169981956099  Tan falsa esta nota, porque el pasado, el pres...   \n",
              "\n",
              "         from_user                 created_at  user_followers_count  \\\n",
              "0    cacaguate2021  2021-10-27 18:59:45+00:00                    82   \n",
              "1  Fernand10517208  2021-10-27 18:59:12+00:00                   172   \n",
              "2     maferlarreaf  2021-10-27 18:57:57+00:00                   565   \n",
              "3          alexazo  2021-10-27 18:57:25+00:00                   305   \n",
              "4       nespinosaa  2021-10-27 18:57:22+00:00                   945   \n",
              "\n",
              "   user_friends_count                                         clean_text  \\\n",
              "0               139.0  paro nacional ay está lindo el paro no al paro...   \n",
              "1               328.0  la gente sabe    la gente entiende   que tu er...   \n",
              "2               363.0   que belleza  deja ordenando que le archiven l...   \n",
              "3               305.0  guillermo lasso si  pero vaya a la asamblea ec...   \n",
              "4               635.0  tan falsa esta nota  porque el pasado  el pres...   \n",
              "\n",
              "                                     translated_text  \n",
              "0  national unemployment  the unemployment is nic...  \n",
              "1  the people knows    people understand    that ...  \n",
              "2  that beauty  he leaves ordering that the inves...  \n",
              "3  guillermo lasso yes  but go to the ecuadorian ...  \n",
              "4  so false this note  because the past  the pres...  "
            ],
            "text/html": [
              "\n",
              "  <div id=\"df-7b183374-8e86-4cdf-9ba5-c3136d27df91\">\n",
              "    <div class=\"colab-df-container\">\n",
              "      <div>\n",
              "<style scoped>\n",
              "    .dataframe tbody tr th:only-of-type {\n",
              "        vertical-align: middle;\n",
              "    }\n",
              "\n",
              "    .dataframe tbody tr th {\n",
              "        vertical-align: top;\n",
              "    }\n",
              "\n",
              "    .dataframe thead th {\n",
              "        text-align: right;\n",
              "    }\n",
              "</style>\n",
              "<table border=\"1\" class=\"dataframe\">\n",
              "  <thead>\n",
              "    <tr style=\"text-align: right;\">\n",
              "      <th></th>\n",
              "      <th>id_str</th>\n",
              "      <th>text</th>\n",
              "      <th>from_user</th>\n",
              "      <th>created_at</th>\n",
              "      <th>user_followers_count</th>\n",
              "      <th>user_friends_count</th>\n",
              "      <th>clean_text</th>\n",
              "      <th>translated_text</th>\n",
              "    </tr>\n",
              "  </thead>\n",
              "  <tbody>\n",
              "    <tr>\n",
              "      <th>0</th>\n",
              "      <td>1453511771793371139</td>\n",
              "      <td>#ParoNacional ay está lindo el paro #NoAlParo ...</td>\n",
              "      <td>cacaguate2021</td>\n",
              "      <td>2021-10-27 18:59:45+00:00</td>\n",
              "      <td>82</td>\n",
              "      <td>139.0</td>\n",
              "      <td>paro nacional ay está lindo el paro no al paro...</td>\n",
              "      <td>national unemployment  the unemployment is nic...</td>\n",
              "    </tr>\n",
              "    <tr>\n",
              "      <th>1</th>\n",
              "      <td>1453511632521502721</td>\n",
              "      <td>@wilfridolaz La gente sabe !! La gente entiend...</td>\n",
              "      <td>Fernand10517208</td>\n",
              "      <td>2021-10-27 18:59:12+00:00</td>\n",
              "      <td>172</td>\n",
              "      <td>328.0</td>\n",
              "      <td>la gente sabe    la gente entiende   que tu er...</td>\n",
              "      <td>the people knows    people understand    that ...</td>\n",
              "    </tr>\n",
              "    <tr>\n",
              "      <th>2</th>\n",
              "      <td>1453511317394968576</td>\n",
              "      <td>¡Que belleza!  Deja ordenando que le archiven ...</td>\n",
              "      <td>maferlarreaf</td>\n",
              "      <td>2021-10-27 18:57:57+00:00</td>\n",
              "      <td>565</td>\n",
              "      <td>363.0</td>\n",
              "      <td>que belleza  deja ordenando que le archiven l...</td>\n",
              "      <td>that beauty  he leaves ordering that the inves...</td>\n",
              "    </tr>\n",
              "    <tr>\n",
              "      <th>3</th>\n",
              "      <td>1453511181805752330</td>\n",
              "      <td>@LassoGuillermo Si, pero vaya a la @AsambleaEc...</td>\n",
              "      <td>alexazo</td>\n",
              "      <td>2021-10-27 18:57:25+00:00</td>\n",
              "      <td>305</td>\n",
              "      <td>305.0</td>\n",
              "      <td>guillermo lasso si  pero vaya a la asamblea ec...</td>\n",
              "      <td>guillermo lasso yes  but go to the ecuadorian ...</td>\n",
              "    </tr>\n",
              "    <tr>\n",
              "      <th>4</th>\n",
              "      <td>1453511169981956099</td>\n",
              "      <td>Tan falsa esta nota, porque el pasado, el pres...</td>\n",
              "      <td>nespinosaa</td>\n",
              "      <td>2021-10-27 18:57:22+00:00</td>\n",
              "      <td>945</td>\n",
              "      <td>635.0</td>\n",
              "      <td>tan falsa esta nota  porque el pasado  el pres...</td>\n",
              "      <td>so false this note  because the past  the pres...</td>\n",
              "    </tr>\n",
              "  </tbody>\n",
              "</table>\n",
              "</div>\n",
              "      <button class=\"colab-df-convert\" onclick=\"convertToInteractive('df-7b183374-8e86-4cdf-9ba5-c3136d27df91')\"\n",
              "              title=\"Convert this dataframe to an interactive table.\"\n",
              "              style=\"display:none;\">\n",
              "        \n",
              "  <svg xmlns=\"http://www.w3.org/2000/svg\" height=\"24px\"viewBox=\"0 0 24 24\"\n",
              "       width=\"24px\">\n",
              "    <path d=\"M0 0h24v24H0V0z\" fill=\"none\"/>\n",
              "    <path d=\"M18.56 5.44l.94 2.06.94-2.06 2.06-.94-2.06-.94-.94-2.06-.94 2.06-2.06.94zm-11 1L8.5 8.5l.94-2.06 2.06-.94-2.06-.94L8.5 2.5l-.94 2.06-2.06.94zm10 10l.94 2.06.94-2.06 2.06-.94-2.06-.94-.94-2.06-.94 2.06-2.06.94z\"/><path d=\"M17.41 7.96l-1.37-1.37c-.4-.4-.92-.59-1.43-.59-.52 0-1.04.2-1.43.59L10.3 9.45l-7.72 7.72c-.78.78-.78 2.05 0 2.83L4 21.41c.39.39.9.59 1.41.59.51 0 1.02-.2 1.41-.59l7.78-7.78 2.81-2.81c.8-.78.8-2.07 0-2.86zM5.41 20L4 18.59l7.72-7.72 1.47 1.35L5.41 20z\"/>\n",
              "  </svg>\n",
              "      </button>\n",
              "      \n",
              "  <style>\n",
              "    .colab-df-container {\n",
              "      display:flex;\n",
              "      flex-wrap:wrap;\n",
              "      gap: 12px;\n",
              "    }\n",
              "\n",
              "    .colab-df-convert {\n",
              "      background-color: #E8F0FE;\n",
              "      border: none;\n",
              "      border-radius: 50%;\n",
              "      cursor: pointer;\n",
              "      display: none;\n",
              "      fill: #1967D2;\n",
              "      height: 32px;\n",
              "      padding: 0 0 0 0;\n",
              "      width: 32px;\n",
              "    }\n",
              "\n",
              "    .colab-df-convert:hover {\n",
              "      background-color: #E2EBFA;\n",
              "      box-shadow: 0px 1px 2px rgba(60, 64, 67, 0.3), 0px 1px 3px 1px rgba(60, 64, 67, 0.15);\n",
              "      fill: #174EA6;\n",
              "    }\n",
              "\n",
              "    [theme=dark] .colab-df-convert {\n",
              "      background-color: #3B4455;\n",
              "      fill: #D2E3FC;\n",
              "    }\n",
              "\n",
              "    [theme=dark] .colab-df-convert:hover {\n",
              "      background-color: #434B5C;\n",
              "      box-shadow: 0px 1px 3px 1px rgba(0, 0, 0, 0.15);\n",
              "      filter: drop-shadow(0px 1px 2px rgba(0, 0, 0, 0.3));\n",
              "      fill: #FFFFFF;\n",
              "    }\n",
              "  </style>\n",
              "\n",
              "      <script>\n",
              "        const buttonEl =\n",
              "          document.querySelector('#df-7b183374-8e86-4cdf-9ba5-c3136d27df91 button.colab-df-convert');\n",
              "        buttonEl.style.display =\n",
              "          google.colab.kernel.accessAllowed ? 'block' : 'none';\n",
              "\n",
              "        async function convertToInteractive(key) {\n",
              "          const element = document.querySelector('#df-7b183374-8e86-4cdf-9ba5-c3136d27df91');\n",
              "          const dataTable =\n",
              "            await google.colab.kernel.invokeFunction('convertToInteractive',\n",
              "                                                     [key], {});\n",
              "          if (!dataTable) return;\n",
              "\n",
              "          const docLinkHtml = 'Like what you see? Visit the ' +\n",
              "            '<a target=\"_blank\" href=https://colab.research.google.com/notebooks/data_table.ipynb>data table notebook</a>'\n",
              "            + ' to learn more about interactive tables.';\n",
              "          element.innerHTML = '';\n",
              "          dataTable['output_type'] = 'display_data';\n",
              "          await google.colab.output.renderOutput(dataTable, element);\n",
              "          const docLink = document.createElement('div');\n",
              "          docLink.innerHTML = docLinkHtml;\n",
              "          element.appendChild(docLink);\n",
              "        }\n",
              "      </script>\n",
              "    </div>\n",
              "  </div>\n",
              "  "
            ]
          },
          "metadata": {},
          "execution_count": 6
        }
      ]
    },
    {
      "cell_type": "markdown",
      "metadata": {
        "id": "7UiGWRJaog3I"
      },
      "source": [
        "# Word Embeddings"
      ]
    },
    {
      "cell_type": "code",
      "metadata": {
        "id": "QNS2lUI0WzGO"
      },
      "source": [
        "import gensim\n",
        "\n",
        "google_embeddings = gensim.models.KeyedVectors.load_word2vec_format('Data/SBW-vectors-300-min5.bin.gz',binary=True)\n",
        "#google_embeddings = gensim.models.KeyedVectors.load_word2vec_format('Data/GoogleNews-vectors-negative300.bin.gz',binary=True)"
      ],
      "execution_count": null,
      "outputs": []
    },
    {
      "cell_type": "code",
      "metadata": {
        "id": "wQpL6Eo3XN2z"
      },
      "source": [
        "def tweets_to_vec(tweet, embeddings, dim=300):\n",
        "\n",
        "    result = np.zeros(dim)\n",
        "    cnt = 0\n",
        "    words = tweet.split()\n",
        "    for word in words:\n",
        "        if word in embeddings:\n",
        "            result += np.array(embeddings[word])\n",
        "            cnt += 1\n",
        "    if cnt != 0:\n",
        "        result /= cnt\n",
        "    return list(result)"
      ],
      "execution_count": null,
      "outputs": []
    },
    {
      "cell_type": "code",
      "metadata": {
        "colab": {
          "base_uri": "https://localhost:8080/",
          "height": 407
        },
        "id": "bUkxbOPjXhO3",
        "outputId": "782a0656-706a-485d-c97b-40d674967588"
      },
      "source": [
        "data['vec'] = data['clean_text'].apply(tweets_to_vec, args=[google_embeddings])\n",
        "#data['vec'] = data['translated_text'].apply(tweets_to_vec, args=[google_embeddings])\n",
        "data.head()"
      ],
      "execution_count": null,
      "outputs": [
        {
          "output_type": "execute_result",
          "data": {
            "text/plain": [
              "                id_str                                               text  \\\n",
              "0  1453511771793371139  #ParoNacional ay está lindo el paro #NoAlParo ...   \n",
              "1  1453511632521502721  @wilfridolaz La gente sabe !! La gente entiend...   \n",
              "2  1453511317394968576  ¡Que belleza!  Deja ordenando que le archiven ...   \n",
              "3  1453511181805752330  @LassoGuillermo Si, pero vaya a la @AsambleaEc...   \n",
              "4  1453511169981956099  Tan falsa esta nota, porque el pasado, el pres...   \n",
              "\n",
              "         from_user                 created_at  user_followers_count  \\\n",
              "0    cacaguate2021  2021-10-27 18:59:45+00:00                    82   \n",
              "1  Fernand10517208  2021-10-27 18:59:12+00:00                   172   \n",
              "2     maferlarreaf  2021-10-27 18:57:57+00:00                   565   \n",
              "3          alexazo  2021-10-27 18:57:25+00:00                   305   \n",
              "4       nespinosaa  2021-10-27 18:57:22+00:00                   945   \n",
              "\n",
              "   user_friends_count                                         clean_text  \\\n",
              "0               139.0  paro nacional ay está lindo el paro no al paro...   \n",
              "1               328.0  la gente sabe    la gente entiende   que tu er...   \n",
              "2               363.0   que belleza  deja ordenando que le archiven l...   \n",
              "3               305.0  guillermo lasso si  pero vaya a la asamblea ec...   \n",
              "4               635.0  tan falsa esta nota  porque el pasado  el pres...   \n",
              "\n",
              "                                     translated_text  \\\n",
              "0  national unemployment  the unemployment is nic...   \n",
              "1  the people knows    people understand    that ...   \n",
              "2  that beauty  he leaves ordering that the inves...   \n",
              "3  guillermo lasso yes  but go to the ecuadorian ...   \n",
              "4  so false this note  because the past  the pres...   \n",
              "\n",
              "                                                 vec  clusters  \n",
              "0  [-0.10658185137435794, -0.10355952673126012, 0...         0  \n",
              "1  [-0.04226909261196852, -0.12904876619577407, 0...         0  \n",
              "2  [-0.04375301399838408, -0.09248300750528424, 0...         0  \n",
              "3  [-0.02154537979804445, -0.0927749800030142, 0....         0  \n",
              "4  [-0.03721596811327242, -0.041600553356411475, ...         0  "
            ],
            "text/html": [
              "\n",
              "  <div id=\"df-9787d275-6467-4b4e-935f-a4eed6759c5d\">\n",
              "    <div class=\"colab-df-container\">\n",
              "      <div>\n",
              "<style scoped>\n",
              "    .dataframe tbody tr th:only-of-type {\n",
              "        vertical-align: middle;\n",
              "    }\n",
              "\n",
              "    .dataframe tbody tr th {\n",
              "        vertical-align: top;\n",
              "    }\n",
              "\n",
              "    .dataframe thead th {\n",
              "        text-align: right;\n",
              "    }\n",
              "</style>\n",
              "<table border=\"1\" class=\"dataframe\">\n",
              "  <thead>\n",
              "    <tr style=\"text-align: right;\">\n",
              "      <th></th>\n",
              "      <th>id_str</th>\n",
              "      <th>text</th>\n",
              "      <th>from_user</th>\n",
              "      <th>created_at</th>\n",
              "      <th>user_followers_count</th>\n",
              "      <th>user_friends_count</th>\n",
              "      <th>clean_text</th>\n",
              "      <th>translated_text</th>\n",
              "      <th>vec</th>\n",
              "      <th>clusters</th>\n",
              "    </tr>\n",
              "  </thead>\n",
              "  <tbody>\n",
              "    <tr>\n",
              "      <th>0</th>\n",
              "      <td>1453511771793371139</td>\n",
              "      <td>#ParoNacional ay está lindo el paro #NoAlParo ...</td>\n",
              "      <td>cacaguate2021</td>\n",
              "      <td>2021-10-27 18:59:45+00:00</td>\n",
              "      <td>82</td>\n",
              "      <td>139.0</td>\n",
              "      <td>paro nacional ay está lindo el paro no al paro...</td>\n",
              "      <td>national unemployment  the unemployment is nic...</td>\n",
              "      <td>[-0.10658185137435794, -0.10355952673126012, 0...</td>\n",
              "      <td>0</td>\n",
              "    </tr>\n",
              "    <tr>\n",
              "      <th>1</th>\n",
              "      <td>1453511632521502721</td>\n",
              "      <td>@wilfridolaz La gente sabe !! La gente entiend...</td>\n",
              "      <td>Fernand10517208</td>\n",
              "      <td>2021-10-27 18:59:12+00:00</td>\n",
              "      <td>172</td>\n",
              "      <td>328.0</td>\n",
              "      <td>la gente sabe    la gente entiende   que tu er...</td>\n",
              "      <td>the people knows    people understand    that ...</td>\n",
              "      <td>[-0.04226909261196852, -0.12904876619577407, 0...</td>\n",
              "      <td>0</td>\n",
              "    </tr>\n",
              "    <tr>\n",
              "      <th>2</th>\n",
              "      <td>1453511317394968576</td>\n",
              "      <td>¡Que belleza!  Deja ordenando que le archiven ...</td>\n",
              "      <td>maferlarreaf</td>\n",
              "      <td>2021-10-27 18:57:57+00:00</td>\n",
              "      <td>565</td>\n",
              "      <td>363.0</td>\n",
              "      <td>que belleza  deja ordenando que le archiven l...</td>\n",
              "      <td>that beauty  he leaves ordering that the inves...</td>\n",
              "      <td>[-0.04375301399838408, -0.09248300750528424, 0...</td>\n",
              "      <td>0</td>\n",
              "    </tr>\n",
              "    <tr>\n",
              "      <th>3</th>\n",
              "      <td>1453511181805752330</td>\n",
              "      <td>@LassoGuillermo Si, pero vaya a la @AsambleaEc...</td>\n",
              "      <td>alexazo</td>\n",
              "      <td>2021-10-27 18:57:25+00:00</td>\n",
              "      <td>305</td>\n",
              "      <td>305.0</td>\n",
              "      <td>guillermo lasso si  pero vaya a la asamblea ec...</td>\n",
              "      <td>guillermo lasso yes  but go to the ecuadorian ...</td>\n",
              "      <td>[-0.02154537979804445, -0.0927749800030142, 0....</td>\n",
              "      <td>0</td>\n",
              "    </tr>\n",
              "    <tr>\n",
              "      <th>4</th>\n",
              "      <td>1453511169981956099</td>\n",
              "      <td>Tan falsa esta nota, porque el pasado, el pres...</td>\n",
              "      <td>nespinosaa</td>\n",
              "      <td>2021-10-27 18:57:22+00:00</td>\n",
              "      <td>945</td>\n",
              "      <td>635.0</td>\n",
              "      <td>tan falsa esta nota  porque el pasado  el pres...</td>\n",
              "      <td>so false this note  because the past  the pres...</td>\n",
              "      <td>[-0.03721596811327242, -0.041600553356411475, ...</td>\n",
              "      <td>0</td>\n",
              "    </tr>\n",
              "  </tbody>\n",
              "</table>\n",
              "</div>\n",
              "      <button class=\"colab-df-convert\" onclick=\"convertToInteractive('df-9787d275-6467-4b4e-935f-a4eed6759c5d')\"\n",
              "              title=\"Convert this dataframe to an interactive table.\"\n",
              "              style=\"display:none;\">\n",
              "        \n",
              "  <svg xmlns=\"http://www.w3.org/2000/svg\" height=\"24px\"viewBox=\"0 0 24 24\"\n",
              "       width=\"24px\">\n",
              "    <path d=\"M0 0h24v24H0V0z\" fill=\"none\"/>\n",
              "    <path d=\"M18.56 5.44l.94 2.06.94-2.06 2.06-.94-2.06-.94-.94-2.06-.94 2.06-2.06.94zm-11 1L8.5 8.5l.94-2.06 2.06-.94-2.06-.94L8.5 2.5l-.94 2.06-2.06.94zm10 10l.94 2.06.94-2.06 2.06-.94-2.06-.94-.94-2.06-.94 2.06-2.06.94z\"/><path d=\"M17.41 7.96l-1.37-1.37c-.4-.4-.92-.59-1.43-.59-.52 0-1.04.2-1.43.59L10.3 9.45l-7.72 7.72c-.78.78-.78 2.05 0 2.83L4 21.41c.39.39.9.59 1.41.59.51 0 1.02-.2 1.41-.59l7.78-7.78 2.81-2.81c.8-.78.8-2.07 0-2.86zM5.41 20L4 18.59l7.72-7.72 1.47 1.35L5.41 20z\"/>\n",
              "  </svg>\n",
              "      </button>\n",
              "      \n",
              "  <style>\n",
              "    .colab-df-container {\n",
              "      display:flex;\n",
              "      flex-wrap:wrap;\n",
              "      gap: 12px;\n",
              "    }\n",
              "\n",
              "    .colab-df-convert {\n",
              "      background-color: #E8F0FE;\n",
              "      border: none;\n",
              "      border-radius: 50%;\n",
              "      cursor: pointer;\n",
              "      display: none;\n",
              "      fill: #1967D2;\n",
              "      height: 32px;\n",
              "      padding: 0 0 0 0;\n",
              "      width: 32px;\n",
              "    }\n",
              "\n",
              "    .colab-df-convert:hover {\n",
              "      background-color: #E2EBFA;\n",
              "      box-shadow: 0px 1px 2px rgba(60, 64, 67, 0.3), 0px 1px 3px 1px rgba(60, 64, 67, 0.15);\n",
              "      fill: #174EA6;\n",
              "    }\n",
              "\n",
              "    [theme=dark] .colab-df-convert {\n",
              "      background-color: #3B4455;\n",
              "      fill: #D2E3FC;\n",
              "    }\n",
              "\n",
              "    [theme=dark] .colab-df-convert:hover {\n",
              "      background-color: #434B5C;\n",
              "      box-shadow: 0px 1px 3px 1px rgba(0, 0, 0, 0.15);\n",
              "      filter: drop-shadow(0px 1px 2px rgba(0, 0, 0, 0.3));\n",
              "      fill: #FFFFFF;\n",
              "    }\n",
              "  </style>\n",
              "\n",
              "      <script>\n",
              "        const buttonEl =\n",
              "          document.querySelector('#df-9787d275-6467-4b4e-935f-a4eed6759c5d button.colab-df-convert');\n",
              "        buttonEl.style.display =\n",
              "          google.colab.kernel.accessAllowed ? 'block' : 'none';\n",
              "\n",
              "        async function convertToInteractive(key) {\n",
              "          const element = document.querySelector('#df-9787d275-6467-4b4e-935f-a4eed6759c5d');\n",
              "          const dataTable =\n",
              "            await google.colab.kernel.invokeFunction('convertToInteractive',\n",
              "                                                     [key], {});\n",
              "          if (!dataTable) return;\n",
              "\n",
              "          const docLinkHtml = 'Like what you see? Visit the ' +\n",
              "            '<a target=\"_blank\" href=https://colab.research.google.com/notebooks/data_table.ipynb>data table notebook</a>'\n",
              "            + ' to learn more about interactive tables.';\n",
              "          element.innerHTML = '';\n",
              "          dataTable['output_type'] = 'display_data';\n",
              "          await google.colab.output.renderOutput(dataTable, element);\n",
              "          const docLink = document.createElement('div');\n",
              "          docLink.innerHTML = docLinkHtml;\n",
              "          element.appendChild(docLink);\n",
              "        }\n",
              "      </script>\n",
              "    </div>\n",
              "  </div>\n",
              "  "
            ]
          },
          "metadata": {},
          "execution_count": 34
        }
      ]
    },
    {
      "cell_type": "code",
      "metadata": {
        "id": "KPH79VwUYW0d"
      },
      "source": [
        "from sklearn.metrics.pairwise import cosine_similarity\n",
        "similarity_matrix = cosine_similarity(data['vec'].to_list())"
      ],
      "execution_count": null,
      "outputs": []
    },
    {
      "cell_type": "code",
      "metadata": {
        "id": "HCW6NQ_1Zxia"
      },
      "source": [
        "np.savetxt('Data/Similarity_Matrix.txt', similarity_matrix)"
      ],
      "execution_count": null,
      "outputs": []
    },
    {
      "cell_type": "code",
      "metadata": {
        "colab": {
          "base_uri": "https://localhost:8080/"
        },
        "id": "F3hKjiwwRSD_",
        "outputId": "f31041fc-a6d4-46e4-e885-8431431a41e8"
      },
      "source": [
        "similarity_matrix.shape"
      ],
      "execution_count": null,
      "outputs": [
        {
          "output_type": "execute_result",
          "data": {
            "text/plain": [
              "(7077, 7077)"
            ]
          },
          "metadata": {},
          "execution_count": 13
        }
      ]
    },
    {
      "cell_type": "code",
      "metadata": {
        "id": "cT44pRHixLJj"
      },
      "source": [
        "similarity_matrix = np.loadtxt('Data/Similarity_Matrix.txt')"
      ],
      "execution_count": null,
      "outputs": []
    },
    {
      "cell_type": "code",
      "source": [
        "data['vec'] = data['translated_text'].apply(tweets_to_vec, args=[google_embeddings])\n",
        "similarity_matrix = cosine_similarity(data['vec'].to_list())"
      ],
      "metadata": {
        "id": "RldQXh6G7vwk"
      },
      "execution_count": null,
      "outputs": []
    },
    {
      "cell_type": "markdown",
      "metadata": {
        "id": "YRNiC3epbJZE"
      },
      "source": [
        "# Metrics"
      ]
    },
    {
      "cell_type": "code",
      "metadata": {
        "id": "aZSihFmaan5t"
      },
      "source": [
        "import random\n",
        "\n",
        "def data_validation_classification(cosines,tweets):\n",
        "    total=[]\n",
        "    for i in range(0,len(cosines)):\n",
        "        temp=[]\n",
        "        organized=sorted(cosines[i])\n",
        "\n",
        "        min1=random.choice(organized[0:30])\n",
        "        min2=random.choice(organized[0:30])\n",
        "        max1=random.choice(organized[len(organized)-32:len(organized)-2])\n",
        "\n",
        "        pos_min_1=organized.index(min1)\n",
        "        pos_min_2=organized.index(min2)\n",
        "        pos_max_1=organized.index(max1)\n",
        "\n",
        "        temp.append(tweets[i])\n",
        "        if pos_max_1>=i:\n",
        "            temp.append(tweets[(pos_max_1+1)])\n",
        "        else:\n",
        "            temp.append(tweets[pos_max_1])\n",
        "        if pos_min_1>=i:\n",
        "            temp.append(tweets[(pos_min_1+1)])\n",
        "        else:\n",
        "            temp.append(tweets[pos_min_1])\n",
        "        if pos_min_2>=i:\n",
        "            temp.append(tweets[(pos_min_2+1)])\n",
        "        else:\n",
        "            temp.append(tweets[pos_min_2])\n",
        "        total.append(temp)\n",
        "    return(total)"
      ],
      "execution_count": null,
      "outputs": []
    },
    {
      "cell_type": "code",
      "metadata": {
        "colab": {
          "base_uri": "https://localhost:8080/",
          "height": 704
        },
        "id": "GiHB28lqbWL2",
        "outputId": "e4aa9321-ccc3-4eb4-8f7c-89f575f8f9e6"
      },
      "source": [
        "data_validation = data_validation_classification(similarity_matrix, data['translated_text'].to_list())\n",
        "data_validation = pd.DataFrame(data_validation, columns=['tweet','positive', 'negative1', 'negative2'])\n",
        "data_validation.head()"
      ],
      "execution_count": null,
      "outputs": [
        {
          "output_type": "execute_result",
          "data": {
            "text/plain": [
              "                                               tweet  \\\n",
              "0  national unemployment  the unemployment is nic...   \n",
              "1  the people knows    people understand    that ...   \n",
              "2  that beauty  he leaves ordering that the inves...   \n",
              "3  guillermo lasso yes  but go to the ecuadorian ...   \n",
              "4  so false this note  because the past  the pres...   \n",
              "\n",
              "                                            positive  \\\n",
              "0  by siacusin we are already on tuesday  stacks ...   \n",
              "1  paro nacional ecuador  backhand index pointing...   \n",
              "2      who benefits from the strike  national strike   \n",
              "3       lasso is a failure lasso liar pandora papers   \n",
              "4   the country is in \"free fall\" lasso is a failure   \n",
              "\n",
              "                                           negative1  \\\n",
              "0  attentive ecuadorians  do not relax  they are ...   \n",
              "1  national unemployment ecuador national unemplo...   \n",
              "2  attentive ecuadorians  do not relax  they are ...   \n",
              "3  well people  they give me a break from the nat...   \n",
              "4  national unemployment  the unemployment is nic...   \n",
              "\n",
              "                                           negative2  \n",
              "0            national strike ecuador national strike  \n",
              "1  attentive ecuadorians  do not relax  they are ...  \n",
              "2  national unemployment  the unemployment is nic...  \n",
              "3                                                     \n",
              "4  come on fuck people  the people don t give up ...  "
            ],
            "text/html": [
              "\n",
              "  <div id=\"df-70f932d3-7c32-4bb3-b199-21a279d86a4d\">\n",
              "    <div class=\"colab-df-container\">\n",
              "      <div>\n",
              "<style scoped>\n",
              "    .dataframe tbody tr th:only-of-type {\n",
              "        vertical-align: middle;\n",
              "    }\n",
              "\n",
              "    .dataframe tbody tr th {\n",
              "        vertical-align: top;\n",
              "    }\n",
              "\n",
              "    .dataframe thead th {\n",
              "        text-align: right;\n",
              "    }\n",
              "</style>\n",
              "<table border=\"1\" class=\"dataframe\">\n",
              "  <thead>\n",
              "    <tr style=\"text-align: right;\">\n",
              "      <th></th>\n",
              "      <th>tweet</th>\n",
              "      <th>positive</th>\n",
              "      <th>negative1</th>\n",
              "      <th>negative2</th>\n",
              "    </tr>\n",
              "  </thead>\n",
              "  <tbody>\n",
              "    <tr>\n",
              "      <th>0</th>\n",
              "      <td>national unemployment  the unemployment is nic...</td>\n",
              "      <td>by siacusin we are already on tuesday  stacks ...</td>\n",
              "      <td>attentive ecuadorians  do not relax  they are ...</td>\n",
              "      <td>national strike ecuador national strike</td>\n",
              "    </tr>\n",
              "    <tr>\n",
              "      <th>1</th>\n",
              "      <td>the people knows    people understand    that ...</td>\n",
              "      <td>paro nacional ecuador  backhand index pointing...</td>\n",
              "      <td>national unemployment ecuador national unemplo...</td>\n",
              "      <td>attentive ecuadorians  do not relax  they are ...</td>\n",
              "    </tr>\n",
              "    <tr>\n",
              "      <th>2</th>\n",
              "      <td>that beauty  he leaves ordering that the inves...</td>\n",
              "      <td>who benefits from the strike  national strike</td>\n",
              "      <td>attentive ecuadorians  do not relax  they are ...</td>\n",
              "      <td>national unemployment  the unemployment is nic...</td>\n",
              "    </tr>\n",
              "    <tr>\n",
              "      <th>3</th>\n",
              "      <td>guillermo lasso yes  but go to the ecuadorian ...</td>\n",
              "      <td>lasso is a failure lasso liar pandora papers</td>\n",
              "      <td>well people  they give me a break from the nat...</td>\n",
              "      <td></td>\n",
              "    </tr>\n",
              "    <tr>\n",
              "      <th>4</th>\n",
              "      <td>so false this note  because the past  the pres...</td>\n",
              "      <td>the country is in \"free fall\" lasso is a failure</td>\n",
              "      <td>national unemployment  the unemployment is nic...</td>\n",
              "      <td>come on fuck people  the people don t give up ...</td>\n",
              "    </tr>\n",
              "  </tbody>\n",
              "</table>\n",
              "</div>\n",
              "      <button class=\"colab-df-convert\" onclick=\"convertToInteractive('df-70f932d3-7c32-4bb3-b199-21a279d86a4d')\"\n",
              "              title=\"Convert this dataframe to an interactive table.\"\n",
              "              style=\"display:none;\">\n",
              "        \n",
              "  <svg xmlns=\"http://www.w3.org/2000/svg\" height=\"24px\"viewBox=\"0 0 24 24\"\n",
              "       width=\"24px\">\n",
              "    <path d=\"M0 0h24v24H0V0z\" fill=\"none\"/>\n",
              "    <path d=\"M18.56 5.44l.94 2.06.94-2.06 2.06-.94-2.06-.94-.94-2.06-.94 2.06-2.06.94zm-11 1L8.5 8.5l.94-2.06 2.06-.94-2.06-.94L8.5 2.5l-.94 2.06-2.06.94zm10 10l.94 2.06.94-2.06 2.06-.94-2.06-.94-.94-2.06-.94 2.06-2.06.94z\"/><path d=\"M17.41 7.96l-1.37-1.37c-.4-.4-.92-.59-1.43-.59-.52 0-1.04.2-1.43.59L10.3 9.45l-7.72 7.72c-.78.78-.78 2.05 0 2.83L4 21.41c.39.39.9.59 1.41.59.51 0 1.02-.2 1.41-.59l7.78-7.78 2.81-2.81c.8-.78.8-2.07 0-2.86zM5.41 20L4 18.59l7.72-7.72 1.47 1.35L5.41 20z\"/>\n",
              "  </svg>\n",
              "      </button>\n",
              "      \n",
              "  <style>\n",
              "    .colab-df-container {\n",
              "      display:flex;\n",
              "      flex-wrap:wrap;\n",
              "      gap: 12px;\n",
              "    }\n",
              "\n",
              "    .colab-df-convert {\n",
              "      background-color: #E8F0FE;\n",
              "      border: none;\n",
              "      border-radius: 50%;\n",
              "      cursor: pointer;\n",
              "      display: none;\n",
              "      fill: #1967D2;\n",
              "      height: 32px;\n",
              "      padding: 0 0 0 0;\n",
              "      width: 32px;\n",
              "    }\n",
              "\n",
              "    .colab-df-convert:hover {\n",
              "      background-color: #E2EBFA;\n",
              "      box-shadow: 0px 1px 2px rgba(60, 64, 67, 0.3), 0px 1px 3px 1px rgba(60, 64, 67, 0.15);\n",
              "      fill: #174EA6;\n",
              "    }\n",
              "\n",
              "    [theme=dark] .colab-df-convert {\n",
              "      background-color: #3B4455;\n",
              "      fill: #D2E3FC;\n",
              "    }\n",
              "\n",
              "    [theme=dark] .colab-df-convert:hover {\n",
              "      background-color: #434B5C;\n",
              "      box-shadow: 0px 1px 3px 1px rgba(0, 0, 0, 0.15);\n",
              "      filter: drop-shadow(0px 1px 2px rgba(0, 0, 0, 0.3));\n",
              "      fill: #FFFFFF;\n",
              "    }\n",
              "  </style>\n",
              "\n",
              "      <script>\n",
              "        const buttonEl =\n",
              "          document.querySelector('#df-70f932d3-7c32-4bb3-b199-21a279d86a4d button.colab-df-convert');\n",
              "        buttonEl.style.display =\n",
              "          google.colab.kernel.accessAllowed ? 'block' : 'none';\n",
              "\n",
              "        async function convertToInteractive(key) {\n",
              "          const element = document.querySelector('#df-70f932d3-7c32-4bb3-b199-21a279d86a4d');\n",
              "          const dataTable =\n",
              "            await google.colab.kernel.invokeFunction('convertToInteractive',\n",
              "                                                     [key], {});\n",
              "          if (!dataTable) return;\n",
              "\n",
              "          const docLinkHtml = 'Like what you see? Visit the ' +\n",
              "            '<a target=\"_blank\" href=https://colab.research.google.com/notebooks/data_table.ipynb>data table notebook</a>'\n",
              "            + ' to learn more about interactive tables.';\n",
              "          element.innerHTML = '';\n",
              "          dataTable['output_type'] = 'display_data';\n",
              "          await google.colab.output.renderOutput(dataTable, element);\n",
              "          const docLink = document.createElement('div');\n",
              "          docLink.innerHTML = docLinkHtml;\n",
              "          element.appendChild(docLink);\n",
              "        }\n",
              "      </script>\n",
              "    </div>\n",
              "  </div>\n",
              "  "
            ]
          },
          "metadata": {},
          "execution_count": 14
        }
      ]
    },
    {
      "cell_type": "code",
      "metadata": {
        "id": "0ZT-inxPcazU"
      },
      "source": [
        "def rank_candidates(tweet, candidates, embeddings, dim=300):\n",
        "    t_vecs = np.array([tweets_to_vec(tweet, embeddings, dim) for i in range(len(candidates))])\n",
        "    cand_vecs = np.array([tweets_to_vec(candidate, embeddings, dim) for candidate in candidates])\n",
        "    cosines = np.array(cosine_similarity(t_vecs, cand_vecs)[0])\n",
        "    merged_list = list(zip(cosines, range(len(candidates)), candidates))\n",
        "    sorted_list  = sorted(merged_list, key=lambda x: x[0], reverse=True)\n",
        "    result = [(b,c) for a,b,c in sorted_list]\n",
        "\n",
        "    return result"
      ],
      "execution_count": null,
      "outputs": []
    },
    {
      "cell_type": "code",
      "metadata": {
        "id": "uMCSgmnCeBrq"
      },
      "source": [
        "def hits_count(dup_ranks, k):\n",
        "\n",
        "    return np.average(np.array(dup_ranks) <= np.array([k]))\n",
        "\n",
        "def dcg_score(dup_ranks, k):\n",
        "\n",
        "    return np.average((np.array(dup_ranks) <= np.array([k]))*1./(np.log2(1. + np.array(dup_ranks))))"
      ],
      "execution_count": null,
      "outputs": []
    },
    {
      "cell_type": "code",
      "metadata": {
        "id": "mPvD2fwmffes"
      },
      "source": [
        "wv_ranking = []\n",
        "for line in range(0,len(data_validation)):\n",
        "    t=data_validation.tweet[line]\n",
        "    ex=[data_validation.positive[line],data_validation.negative1[line],data_validation.negative2[line]]\n",
        "    ranks = rank_candidates(t, ex, google_embeddings)\n",
        "    wv_ranking.append([r[0] for r in ranks].index(0) + 1)"
      ],
      "execution_count": null,
      "outputs": []
    },
    {
      "cell_type": "code",
      "metadata": {
        "colab": {
          "base_uri": "https://localhost:8080/"
        },
        "id": "9kZzwMF9gR4F",
        "outputId": "274f36d8-8192-40e5-eb10-0a09397f704a"
      },
      "source": [
        "for k in [1, 5, 10, 100, 500, 1000]:\n",
        "    print(\"DCG@%4d: %.3f | Hits@%4d: %.3f\" % (k, dcg_score(wv_ranking, k), k, hits_count(wv_ranking, k)))"
      ],
      "execution_count": null,
      "outputs": [
        {
          "output_type": "stream",
          "name": "stdout",
          "text": [
            "DCG@   1: 0.243 | Hits@   1: 0.243\n",
            "DCG@   5: 0.654 | Hits@   5: 1.000\n",
            "DCG@  10: 0.654 | Hits@  10: 1.000\n",
            "DCG@ 100: 0.654 | Hits@ 100: 1.000\n",
            "DCG@ 500: 0.654 | Hits@ 500: 1.000\n",
            "DCG@1000: 0.654 | Hits@1000: 1.000\n"
          ]
        }
      ]
    },
    {
      "cell_type": "markdown",
      "metadata": {
        "id": "QS6IwOfMgv5I"
      },
      "source": [
        "# Clustering"
      ]
    },
    {
      "cell_type": "code",
      "metadata": {
        "id": "n1JXM29OYex5"
      },
      "source": [
        "import matplotlib.pyplot as plt\n",
        "import matplotlib\n",
        "import seaborn as sns\n",
        "\n",
        "from sklearn.cluster import KMeans\n",
        "\n",
        "sns.set_style('whitegrid')\n",
        "matplotlib.rcParams['mathtext.fontset'] = 'stix'\n",
        "matplotlib.rcParams['font.family'] = 'STIXGeneral'\n",
        "\n",
        "\n",
        "parameters = {'axes.labelsize': 12,\n",
        "          'axes.titlesize': 20,\n",
        "          'xtick.labelsize':12,\n",
        "          'font.size':12}\n",
        "plt.rcParams.update(parameters)"
      ],
      "execution_count": null,
      "outputs": []
    },
    {
      "cell_type": "code",
      "source": [
        "metric = []\n",
        "n_clusters = range(2,10)\n",
        "\n",
        "for n in n_clusters:\n",
        "  kmeans = KMeans(n).fit(similarity_matrix)\n",
        "  metric.append(kmeans.inertia_)"
      ],
      "metadata": {
        "id": "_GPrMBxITLJ6"
      },
      "execution_count": null,
      "outputs": []
    },
    {
      "cell_type": "code",
      "source": [
        "fig = plt.figure()\n",
        "plt.plot(n_clusters, metric)\n",
        "plt.plot([3,3], [0,250000], 'tab:gray')\n",
        "plt.xlabel('Number of clusters')\n",
        "plt.ylabel('Inertia')\n",
        "fig.suptitle('Elbow method')\n",
        "fig.savefig('Img/Elbow_spanish.pdf', format='pdf');"
      ],
      "metadata": {
        "colab": {
          "base_uri": "https://localhost:8080/",
          "height": 312
        },
        "id": "Yn_phPWEANPM",
        "outputId": "6bc072c1-8f88-4f81-8986-6ba80a4e67c6"
      },
      "execution_count": null,
      "outputs": [
        {
          "output_type": "display_data",
          "data": {
            "text/plain": [
              "<Figure size 432x288 with 1 Axes>"
            ],
            "image/png": "[encoded data removed]"
          },
          "metadata": {}
        }
      ]
    },
    {
      "cell_type": "code",
      "source": [
        "from sklearn.metrics import calinski_harabasz_score\n",
        "\n",
        "metric = []\n",
        "n_clusters = range(2,10)\n",
        "for n in n_clusters:\n",
        "  kmeans = KMeans(n).fit_predict(similarity_matrix)\n",
        "  metric.append(calinski_harabasz_score(similarity_matrix, kmeans))\n",
        "\n",
        "plt.plot(n_clusters, metric)"
      ],
      "metadata": {
        "colab": {
          "base_uri": "https://localhost:8080/",
          "height": 288
        },
        "id": "SDZp9mXqTO0Y",
        "outputId": "9c9a8879-e18e-4cac-8a4f-0399b085715b"
      },
      "execution_count": null,
      "outputs": [
        {
          "output_type": "execute_result",
          "data": {
            "text/plain": [
              "[<matplotlib.lines.Line2D at 0x7f1591e90950>]"
            ]
          },
          "metadata": {},
          "execution_count": 19
        },
        {
          "output_type": "display_data",
          "data": {
            "text/plain": [
              "<Figure size 432x288 with 1 Axes>"
            ],
            "image/png": "[encoded data removed]"
          },
          "metadata": {}
        }
      ]
    },
    {
      "cell_type": "code",
      "source": [
        "from sklearn.metrics import silhouette_score\n",
        "\n",
        "metric = []\n",
        "n_clusters = range(2,10)\n",
        "for n in n_clusters:\n",
        "  kmeans = KMeans(n).fit_predict(similarity_matrix)\n",
        "  metric.append(silhouette_score(similarity_matrix, kmeans))\n",
        "\n",
        "plt.plot(n_clusters, metric)"
      ],
      "metadata": {
        "colab": {
          "base_uri": "https://localhost:8080/",
          "height": 284
        },
        "id": "WvXKFN9vWNQO",
        "outputId": "a149dbfd-a837-422e-cd51-baf2140a9a0d"
      },
      "execution_count": null,
      "outputs": [
        {
          "output_type": "execute_result",
          "data": {
            "text/plain": [
              "[<matplotlib.lines.Line2D at 0x7f294a5d0a50>]"
            ]
          },
          "metadata": {},
          "execution_count": 97
        },
        {
          "output_type": "display_data",
          "data": {
            "text/plain": [
              "<Figure size 432x288 with 1 Axes>"
            ],
            "image/png": "[encoded data removed]"
          },
          "metadata": {}
        }
      ]
    },
    {
      "cell_type": "code",
      "source": [
        "from sklearn.metrics import davies_bouldin_score\n",
        "\n",
        "metric = []\n",
        "n_clusters = range(2,10)\n",
        "for n in n_clusters:\n",
        "  kmeans = KMeans(n).fit_predict(similarity_matrix)\n",
        "  metric.append(davies_bouldin_score(similarity_matrix, kmeans))\n",
        "\n",
        "plt.plot(n_clusters, metric)"
      ],
      "metadata": {
        "colab": {
          "base_uri": "https://localhost:8080/",
          "height": 284
        },
        "id": "vO61YXE2WSoJ",
        "outputId": "a671e72e-b426-4ccd-ca8b-23eae08b12b1"
      },
      "execution_count": null,
      "outputs": [
        {
          "output_type": "execute_result",
          "data": {
            "text/plain": [
              "[<matplotlib.lines.Line2D at 0x7f28ead00fd0>]"
            ]
          },
          "metadata": {},
          "execution_count": 98
        },
        {
          "output_type": "display_data",
          "data": {
            "text/plain": [
              "<Figure size 432x288 with 1 Axes>"
            ],
            "image/png": "[encoded data removed]"
          },
          "metadata": {}
        }
      ]
    },
    {
      "cell_type": "code",
      "metadata": {
        "colab": {
          "base_uri": "https://localhost:8080/"
        },
        "id": "YdNqdzNOqkhN",
        "outputId": "d7d15fa9-aae3-47e9-f8e5-d4837d2c2dc7"
      },
      "source": [
        "from sklearn.cluster import KMeans\n",
        "from sklearn.decomposition import PCA\n",
        "\n",
        "pca = PCA(n_components=2).fit(similarity_matrix)\n",
        "pca_vec = pca.transform(similarity_matrix)\n",
        "components = pd.DataFrame(pca_vec, columns=['PC1', 'PC2'])\n",
        "\n",
        "kmeans = KMeans(3).fit(similarity_matrix)\n",
        "data['clusters'] = kmeans.labels_\n",
        "components['clusters'] = data['clusters']\n",
        "pca.explained_variance_ratio_"
      ],
      "execution_count": null,
      "outputs": [
        {
          "output_type": "execute_result",
          "data": {
            "text/plain": [
              "array([0.67935761, 0.1901349 ])"
            ]
          },
          "metadata": {},
          "execution_count": 36
        }
      ]
    },
    {
      "cell_type": "code",
      "metadata": {
        "colab": {
          "base_uri": "https://localhost:8080/"
        },
        "id": "A0ufIZcssYfq",
        "outputId": "cd305798-4516-4b29-e3fe-9a0a39b71e53"
      },
      "source": [
        "pca.explained_variance_ratio_[0] + pca.explained_variance_ratio_[1]"
      ],
      "execution_count": null,
      "outputs": [
        {
          "output_type": "execute_result",
          "data": {
            "text/plain": [
              "0.8647182189345111"
            ]
          },
          "metadata": {},
          "execution_count": 49
        }
      ]
    },
    {
      "cell_type": "code",
      "metadata": {
        "id": "dQ1EDjKLdUi5",
        "colab": {
          "base_uri": "https://localhost:8080/",
          "height": 374
        },
        "outputId": "14e916ea-6da4-4015-900c-de34065c2235"
      },
      "source": [
        "palette = sns.color_palette(['#DEEFB7', '#98DFAF', '#5FB49C'])#, '#414288'])# '#404590'])\n",
        "g = sns.PairGrid(components, hue=\"clusters\", palette=palette)\n",
        "#g.map_diag(sns.kdeplot)\n",
        "g.map_upper(sns.scatterplot)\n",
        "#g.map_lower(sns.kdeplot, levels=4)\n",
        "g.fig.suptitle('Tweets Clusters')\n",
        "g.add_legend();\n",
        "#g.fig.savefig('Img/clusters_spanish.pdf', format='pdf');"
      ],
      "execution_count": null,
      "outputs": [
        {
          "output_type": "display_data",
          "data": {
            "text/plain": [
              "<Figure size 409.2x360 with 4 Axes>"
            ],
            "image/png": "[encoded data removed]"
          },
          "metadata": {}
        }
      ]
    },
    {
      "cell_type": "code",
      "source": [
        "def set_clusters(c):\n",
        "  if c == 0:\n",
        "    return 0\n",
        "  if c == 1:\n",
        "    return 2\n",
        "  if c == 2:\n",
        "    return 1\n",
        "  if c == 3:\n",
        "    return 2\n",
        "\n",
        "data['clusters'] = data['clusters'].apply(set_clusters)\n",
        "components['clusters'] = data['clusters']\n",
        "palette = sns.color_palette(['#DEEFB7', '#98DFAF', '#5FB49C'])#, '#414288',])# '#404590'])\n",
        "g = sns.PairGrid(components, hue=\"clusters\", palette=palette)\n",
        "#g.map_diag(sns.kdeplot)\n",
        "g.map_upper(sns.scatterplot)\n",
        "#g.map_lower(sns.kdeplot, levels=4)\n",
        "g.fig.suptitle('Tweets Clusters')\n",
        "g.add_legend();\n",
        "#g.fig.savefig('Img/clusters_spanish.pdf', format='pdf');"
      ],
      "metadata": {
        "colab": {
          "base_uri": "https://localhost:8080/",
          "height": 374
        },
        "id": "vuYuV18qD0eu",
        "outputId": "8fa85273-0a2c-4efd-e0ad-6d401f87265f"
      },
      "execution_count": null,
      "outputs": [
        {
          "output_type": "display_data",
          "data": {
            "text/plain": [
              "<Figure size 409.2x360 with 4 Axes>"
            ],
            "image/png": "[encoded data removed]"
          },
          "metadata": {}
        }
      ]
    },
    {
      "cell_type": "code",
      "source": [
        "df = pd.DataFrame(pca_vec[:,1], pca_vec[:,0])\n",
        "df = df.reset_index()\n",
        "df.columns = ['x', 'y']\n",
        "df.head()"
      ],
      "metadata": {
        "colab": {
          "base_uri": "https://localhost:8080/",
          "height": 206
        },
        "id": "U6l-exv4nfUD",
        "outputId": "3964efca-ebbb-4785-feb4-0c7ab19bbe68"
      },
      "execution_count": null,
      "outputs": [
        {
          "output_type": "execute_result",
          "data": {
            "text/plain": [
              "          x         y\n",
              "0  0.888189 -3.587483\n",
              "1 -3.713208  3.466219\n",
              "2 -5.239420 -1.306413\n",
              "3 -5.563713 -0.543870\n",
              "4 -3.971277 -1.368815"
            ],
            "text/html": [
              "\n",
              "  <div id=\"df-28c945d2-146d-48ff-80c8-d69387559016\">\n",
              "    <div class=\"colab-df-container\">\n",
              "      <div>\n",
              "<style scoped>\n",
              "    .dataframe tbody tr th:only-of-type {\n",
              "        vertical-align: middle;\n",
              "    }\n",
              "\n",
              "    .dataframe tbody tr th {\n",
              "        vertical-align: top;\n",
              "    }\n",
              "\n",
              "    .dataframe thead th {\n",
              "        text-align: right;\n",
              "    }\n",
              "</style>\n",
              "<table border=\"1\" class=\"dataframe\">\n",
              "  <thead>\n",
              "    <tr style=\"text-align: right;\">\n",
              "      <th></th>\n",
              "      <th>x</th>\n",
              "      <th>y</th>\n",
              "    </tr>\n",
              "  </thead>\n",
              "  <tbody>\n",
              "    <tr>\n",
              "      <th>0</th>\n",
              "      <td>0.888189</td>\n",
              "      <td>-3.587483</td>\n",
              "    </tr>\n",
              "    <tr>\n",
              "      <th>1</th>\n",
              "      <td>-3.713208</td>\n",
              "      <td>3.466219</td>\n",
              "    </tr>\n",
              "    <tr>\n",
              "      <th>2</th>\n",
              "      <td>-5.239420</td>\n",
              "      <td>-1.306413</td>\n",
              "    </tr>\n",
              "    <tr>\n",
              "      <th>3</th>\n",
              "      <td>-5.563713</td>\n",
              "      <td>-0.543870</td>\n",
              "    </tr>\n",
              "    <tr>\n",
              "      <th>4</th>\n",
              "      <td>-3.971277</td>\n",
              "      <td>-1.368815</td>\n",
              "    </tr>\n",
              "  </tbody>\n",
              "</table>\n",
              "</div>\n",
              "      <button class=\"colab-df-convert\" onclick=\"convertToInteractive('df-28c945d2-146d-48ff-80c8-d69387559016')\"\n",
              "              title=\"Convert this dataframe to an interactive table.\"\n",
              "              style=\"display:none;\">\n",
              "        \n",
              "  <svg xmlns=\"http://www.w3.org/2000/svg\" height=\"24px\"viewBox=\"0 0 24 24\"\n",
              "       width=\"24px\">\n",
              "    <path d=\"M0 0h24v24H0V0z\" fill=\"none\"/>\n",
              "    <path d=\"M18.56 5.44l.94 2.06.94-2.06 2.06-.94-2.06-.94-.94-2.06-.94 2.06-2.06.94zm-11 1L8.5 8.5l.94-2.06 2.06-.94-2.06-.94L8.5 2.5l-.94 2.06-2.06.94zm10 10l.94 2.06.94-2.06 2.06-.94-2.06-.94-.94-2.06-.94 2.06-2.06.94z\"/><path d=\"M17.41 7.96l-1.37-1.37c-.4-.4-.92-.59-1.43-.59-.52 0-1.04.2-1.43.59L10.3 9.45l-7.72 7.72c-.78.78-.78 2.05 0 2.83L4 21.41c.39.39.9.59 1.41.59.51 0 1.02-.2 1.41-.59l7.78-7.78 2.81-2.81c.8-.78.8-2.07 0-2.86zM5.41 20L4 18.59l7.72-7.72 1.47 1.35L5.41 20z\"/>\n",
              "  </svg>\n",
              "      </button>\n",
              "      \n",
              "  <style>\n",
              "    .colab-df-container {\n",
              "      display:flex;\n",
              "      flex-wrap:wrap;\n",
              "      gap: 12px;\n",
              "    }\n",
              "\n",
              "    .colab-df-convert {\n",
              "      background-color: #E8F0FE;\n",
              "      border: none;\n",
              "      border-radius: 50%;\n",
              "      cursor: pointer;\n",
              "      display: none;\n",
              "      fill: #1967D2;\n",
              "      height: 32px;\n",
              "      padding: 0 0 0 0;\n",
              "      width: 32px;\n",
              "    }\n",
              "\n",
              "    .colab-df-convert:hover {\n",
              "      background-color: #E2EBFA;\n",
              "      box-shadow: 0px 1px 2px rgba(60, 64, 67, 0.3), 0px 1px 3px 1px rgba(60, 64, 67, 0.15);\n",
              "      fill: #174EA6;\n",
              "    }\n",
              "\n",
              "    [theme=dark] .colab-df-convert {\n",
              "      background-color: #3B4455;\n",
              "      fill: #D2E3FC;\n",
              "    }\n",
              "\n",
              "    [theme=dark] .colab-df-convert:hover {\n",
              "      background-color: #434B5C;\n",
              "      box-shadow: 0px 1px 3px 1px rgba(0, 0, 0, 0.15);\n",
              "      filter: drop-shadow(0px 1px 2px rgba(0, 0, 0, 0.3));\n",
              "      fill: #FFFFFF;\n",
              "    }\n",
              "  </style>\n",
              "\n",
              "      <script>\n",
              "        const buttonEl =\n",
              "          document.querySelector('#df-28c945d2-146d-48ff-80c8-d69387559016 button.colab-df-convert');\n",
              "        buttonEl.style.display =\n",
              "          google.colab.kernel.accessAllowed ? 'block' : 'none';\n",
              "\n",
              "        async function convertToInteractive(key) {\n",
              "          const element = document.querySelector('#df-28c945d2-146d-48ff-80c8-d69387559016');\n",
              "          const dataTable =\n",
              "            await google.colab.kernel.invokeFunction('convertToInteractive',\n",
              "                                                     [key], {});\n",
              "          if (!dataTable) return;\n",
              "\n",
              "          const docLinkHtml = 'Like what you see? Visit the ' +\n",
              "            '<a target=\"_blank\" href=https://colab.research.google.com/notebooks/data_table.ipynb>data table notebook</a>'\n",
              "            + ' to learn more about interactive tables.';\n",
              "          element.innerHTML = '';\n",
              "          dataTable['output_type'] = 'display_data';\n",
              "          await google.colab.output.renderOutput(dataTable, element);\n",
              "          const docLink = document.createElement('div');\n",
              "          docLink.innerHTML = docLinkHtml;\n",
              "          element.appendChild(docLink);\n",
              "        }\n",
              "      </script>\n",
              "    </div>\n",
              "  </div>\n",
              "  "
            ]
          },
          "metadata": {},
          "execution_count": 67
        }
      ]
    },
    {
      "cell_type": "code",
      "source": [
        "df[(df['y'] >= 9) & (df['x'] >= 50)].head()"
      ],
      "metadata": {
        "colab": {
          "base_uri": "https://localhost:8080/",
          "height": 206
        },
        "id": "aoiyE4QyqP_E",
        "outputId": "534e12ee-9b79-488d-bde1-ec6c72eaaecf"
      },
      "execution_count": null,
      "outputs": [
        {
          "output_type": "execute_result",
          "data": {
            "text/plain": [
              "              x          y\n",
              "20    62.792148  10.027384\n",
              "191   62.792148  10.027384\n",
              "193   62.792148  10.027384\n",
              "395   62.792148  10.027384\n",
              "6041  62.792148  10.027384"
            ],
            "text/html": [
              "\n",
              "  <div id=\"df-e2e8d36b-e9b0-461c-9196-02175b18b3e8\">\n",
              "    <div class=\"colab-df-container\">\n",
              "      <div>\n",
              "<style scoped>\n",
              "    .dataframe tbody tr th:only-of-type {\n",
              "        vertical-align: middle;\n",
              "    }\n",
              "\n",
              "    .dataframe tbody tr th {\n",
              "        vertical-align: top;\n",
              "    }\n",
              "\n",
              "    .dataframe thead th {\n",
              "        text-align: right;\n",
              "    }\n",
              "</style>\n",
              "<table border=\"1\" class=\"dataframe\">\n",
              "  <thead>\n",
              "    <tr style=\"text-align: right;\">\n",
              "      <th></th>\n",
              "      <th>x</th>\n",
              "      <th>y</th>\n",
              "    </tr>\n",
              "  </thead>\n",
              "  <tbody>\n",
              "    <tr>\n",
              "      <th>20</th>\n",
              "      <td>62.792148</td>\n",
              "      <td>10.027384</td>\n",
              "    </tr>\n",
              "    <tr>\n",
              "      <th>191</th>\n",
              "      <td>62.792148</td>\n",
              "      <td>10.027384</td>\n",
              "    </tr>\n",
              "    <tr>\n",
              "      <th>193</th>\n",
              "      <td>62.792148</td>\n",
              "      <td>10.027384</td>\n",
              "    </tr>\n",
              "    <tr>\n",
              "      <th>395</th>\n",
              "      <td>62.792148</td>\n",
              "      <td>10.027384</td>\n",
              "    </tr>\n",
              "    <tr>\n",
              "      <th>6041</th>\n",
              "      <td>62.792148</td>\n",
              "      <td>10.027384</td>\n",
              "    </tr>\n",
              "  </tbody>\n",
              "</table>\n",
              "</div>\n",
              "      <button class=\"colab-df-convert\" onclick=\"convertToInteractive('df-e2e8d36b-e9b0-461c-9196-02175b18b3e8')\"\n",
              "              title=\"Convert this dataframe to an interactive table.\"\n",
              "              style=\"display:none;\">\n",
              "        \n",
              "  <svg xmlns=\"http://www.w3.org/2000/svg\" height=\"24px\"viewBox=\"0 0 24 24\"\n",
              "       width=\"24px\">\n",
              "    <path d=\"M0 0h24v24H0V0z\" fill=\"none\"/>\n",
              "    <path d=\"M18.56 5.44l.94 2.06.94-2.06 2.06-.94-2.06-.94-.94-2.06-.94 2.06-2.06.94zm-11 1L8.5 8.5l.94-2.06 2.06-.94-2.06-.94L8.5 2.5l-.94 2.06-2.06.94zm10 10l.94 2.06.94-2.06 2.06-.94-2.06-.94-.94-2.06-.94 2.06-2.06.94z\"/><path d=\"M17.41 7.96l-1.37-1.37c-.4-.4-.92-.59-1.43-.59-.52 0-1.04.2-1.43.59L10.3 9.45l-7.72 7.72c-.78.78-.78 2.05 0 2.83L4 21.41c.39.39.9.59 1.41.59.51 0 1.02-.2 1.41-.59l7.78-7.78 2.81-2.81c.8-.78.8-2.07 0-2.86zM5.41 20L4 18.59l7.72-7.72 1.47 1.35L5.41 20z\"/>\n",
              "  </svg>\n",
              "      </button>\n",
              "      \n",
              "  <style>\n",
              "    .colab-df-container {\n",
              "      display:flex;\n",
              "      flex-wrap:wrap;\n",
              "      gap: 12px;\n",
              "    }\n",
              "\n",
              "    .colab-df-convert {\n",
              "      background-color: #E8F0FE;\n",
              "      border: none;\n",
              "      border-radius: 50%;\n",
              "      cursor: pointer;\n",
              "      display: none;\n",
              "      fill: #1967D2;\n",
              "      height: 32px;\n",
              "      padding: 0 0 0 0;\n",
              "      width: 32px;\n",
              "    }\n",
              "\n",
              "    .colab-df-convert:hover {\n",
              "      background-color: #E2EBFA;\n",
              "      box-shadow: 0px 1px 2px rgba(60, 64, 67, 0.3), 0px 1px 3px 1px rgba(60, 64, 67, 0.15);\n",
              "      fill: #174EA6;\n",
              "    }\n",
              "\n",
              "    [theme=dark] .colab-df-convert {\n",
              "      background-color: #3B4455;\n",
              "      fill: #D2E3FC;\n",
              "    }\n",
              "\n",
              "    [theme=dark] .colab-df-convert:hover {\n",
              "      background-color: #434B5C;\n",
              "      box-shadow: 0px 1px 3px 1px rgba(0, 0, 0, 0.15);\n",
              "      filter: drop-shadow(0px 1px 2px rgba(0, 0, 0, 0.3));\n",
              "      fill: #FFFFFF;\n",
              "    }\n",
              "  </style>\n",
              "\n",
              "      <script>\n",
              "        const buttonEl =\n",
              "          document.querySelector('#df-e2e8d36b-e9b0-461c-9196-02175b18b3e8 button.colab-df-convert');\n",
              "        buttonEl.style.display =\n",
              "          google.colab.kernel.accessAllowed ? 'block' : 'none';\n",
              "\n",
              "        async function convertToInteractive(key) {\n",
              "          const element = document.querySelector('#df-e2e8d36b-e9b0-461c-9196-02175b18b3e8');\n",
              "          const dataTable =\n",
              "            await google.colab.kernel.invokeFunction('convertToInteractive',\n",
              "                                                     [key], {});\n",
              "          if (!dataTable) return;\n",
              "\n",
              "          const docLinkHtml = 'Like what you see? Visit the ' +\n",
              "            '<a target=\"_blank\" href=https://colab.research.google.com/notebooks/data_table.ipynb>data table notebook</a>'\n",
              "            + ' to learn more about interactive tables.';\n",
              "          element.innerHTML = '';\n",
              "          dataTable['output_type'] = 'display_data';\n",
              "          await google.colab.output.renderOutput(dataTable, element);\n",
              "          const docLink = document.createElement('div');\n",
              "          docLink.innerHTML = docLinkHtml;\n",
              "          element.appendChild(docLink);\n",
              "        }\n",
              "      </script>\n",
              "    </div>\n",
              "  </div>\n",
              "  "
            ]
          },
          "metadata": {},
          "execution_count": 71
        }
      ]
    },
    {
      "cell_type": "code",
      "source": [
        "data['clean_text'][20]"
      ],
      "metadata": {
        "colab": {
          "base_uri": "https://localhost:8080/",
          "height": 35
        },
        "id": "Uuzgp3fIuIWI",
        "outputId": "1ad63ce6-266b-4136-c033-fbf8be064dc8"
      },
      "execution_count": null,
      "outputs": [
        {
          "output_type": "execute_result",
          "data": {
            "text/plain": [
              "' '"
            ],
            "application/vnd.google.colaboratory.intrinsic+json": {
              "type": "string"
            }
          },
          "metadata": {},
          "execution_count": 72
        }
      ]
    },
    {
      "cell_type": "code",
      "metadata": {
        "colab": {
          "base_uri": "https://localhost:8080/",
          "height": 374
        },
        "id": "DOpGjgRzgNN-",
        "outputId": "2d7f6bfa-ab41-439b-ca43-ff0097941fee"
      },
      "source": [
        "palette = sns.color_palette(['#DEEFB7', '#98DFAF', '#5FB49C', '#414288'])\n",
        "g = sns.PairGrid(components, hue=\"clusters\", palette=palette)\n",
        "#g.map_diag(sns.kdeplot)\n",
        "g.map_upper(sns.scatterplot)\n",
        "#g.map_lower(sns.kdeplot, levels=4)\n",
        "g.fig.suptitle('Tweets Clusters')\n",
        "g.add_legend();\n",
        "#g.fig.savefig('Img/clusters_spanish.pdf', format='pdf');"
      ],
      "execution_count": null,
      "outputs": [
        {
          "output_type": "display_data",
          "data": {
            "text/plain": [
              "<Figure size 409.2x360 with 4 Axes>"
            ],
            "image/png": "[encoded data removed]"
          },
          "metadata": {}
        }
      ]
    },
    {
      "cell_type": "code",
      "metadata": {
        "id": "B0cVqBnJZEDj"
      },
      "source": [
        "def map_clusters(i):\n",
        "  if i == 0:\n",
        "    return 0\n",
        "  if i == 1:\n",
        "    return 1\n",
        "  if i == 2:\n",
        "    return 3\n",
        "  if i == 3:\n",
        "    return 2\n",
        "\n",
        "data['clusters'] = data['clusters'].apply(map_clusters)\n",
        "components['clusters'] = data['clusters']"
      ],
      "execution_count": null,
      "outputs": []
    },
    {
      "cell_type": "code",
      "metadata": {
        "id": "lkw8UM04WoaJ"
      },
      "source": [
        "from sklearn.cluster import KMeans\n",
        "from sklearn.decomposition import PCA\n",
        "\n",
        "pca = PCA(n_components=2).fit(list(data['vec']))\n",
        "pca_vec = pca.transform(list(data['vec']))\n",
        "components = pd.DataFrame(pca_vec, columns=['PC1', 'PC2'])\n",
        "\n",
        "kmeans = KMeans(2).fit(list(data['vec']))\n",
        "data['clusters'] = kmeans.labels_\n",
        "components['clusters'] = data['clusters']\n",
        "pca.explained_variance_ratio_"
      ],
      "execution_count": null,
      "outputs": []
    },
    {
      "cell_type": "code",
      "metadata": {
        "colab": {
          "base_uri": "https://localhost:8080/",
          "height": 374
        },
        "id": "A-m-EggFWqup",
        "outputId": "9d46de27-a487-42c2-d2c3-dd08bf7deedb"
      },
      "source": [
        "palette = sns.color_palette(['#DEEFB7', '#98DFAF'])#, '#5FB49C', '#414288'])\n",
        "g = sns.PairGrid(components, hue=\"clusters\", palette=palette)\n",
        "g.map_diag(sns.kdeplot)\n",
        "g.map_upper(sns.scatterplot)\n",
        "g.map_lower(sns.kdeplot, levels=4)\n",
        "g.fig.suptitle('Tweets Clusters')\n",
        "g.add_legend()\n",
        "g.fig.savefig('Img/clusters_google.pdf', format='pdf');"
      ],
      "execution_count": null,
      "outputs": [
        {
          "data": {
            "image/png": "[encoded data removed]",
            "text/plain": [
              "<Figure size 409.2x360 with 6 Axes>"
            ]
          },
          "metadata": {},
          "output_type": "display_data"
        }
      ]
    },
    {
      "cell_type": "code",
      "metadata": {
        "colab": {
          "base_uri": "https://localhost:8080/"
        },
        "id": "sOIlV32l3pZK",
        "outputId": "be422e68-9377-4463-c4b1-bc4c7de9ca58"
      },
      "source": [
        "import nltk\n",
        "nltk.download('stopwords')\n",
        "from wordcloud import WordCloud\n",
        "from nltk.corpus import stopwords"
      ],
      "execution_count": null,
      "outputs": [
        {
          "output_type": "stream",
          "name": "stderr",
          "text": [
            "[nltk_data] Downloading package stopwords to /root/nltk_data...\n",
            "[nltk_data]   Unzipping corpora/stopwords.zip.\n"
          ]
        }
      ]
    },
    {
      "cell_type": "code",
      "metadata": {
        "colab": {
          "base_uri": "https://localhost:8080/",
          "height": 537
        },
        "id": "VkLNXNLKaSUV",
        "outputId": "69d706bf-781d-4cf8-f333-96d2d1f41886"
      },
      "source": [
        "parameters = {'axes.labelsize': 12,\n",
        "          'axes.titlesize': 15,\n",
        "          'xtick.labelsize':12,\n",
        "          'font.size':12}\n",
        "plt.rcParams.update(parameters)\n",
        "stopwords_list = list(stopwords.words('english')) + ['failure', 'Lasso', 'Guillermo', 'National', 'Strike', 'lasso', 'guillermo', 'national', 'strike', 'ecuador', 'Ecuador', 'flexed', 'biceps']\n",
        "\n",
        "fig, ax = plt.subplots(4,1, figsize=(20,9))\n",
        "tab1 = data[data[\"clusters\"]==0]\n",
        "allWords = ' '.join([twts for twts in tab1['translated_text']])\n",
        "wordCloud1 = WordCloud(width = 500, height = 300, random_state = 21, max_font_size = 119,background_color=\"white\", stopwords=stopwords_list, min_word_length=4, max_words=15).generate(allWords)\n",
        "ax[0].imshow(wordCloud1)\n",
        "ax[0].set_title('Cluster 0')\n",
        "ax[0].axis('off')\n",
        "\n",
        "tab1 = data[data[\"clusters\"]==1]\n",
        "allWords = ' '.join([twts for twts in tab1['translated_text']])\n",
        "wordCloud1 = WordCloud(width = 500, height = 300, random_state = 21, max_font_size = 119,background_color=\"white\", stopwords=stopwords_list, min_word_length=4, max_words=15).generate(allWords)\n",
        "ax[1].imshow(wordCloud1)\n",
        "ax[1].set_title('Cluster 1')\n",
        "ax[1].axis('off')\n",
        "\n",
        "tab1 = data[data[\"clusters\"]==2]\n",
        "allWords = ' '.join([twts for twts in tab1['translated_text']])\n",
        "wordCloud1 = WordCloud(width = 500, height = 300, random_state = 21, max_font_size = 119,background_color=\"white\", stopwords=stopwords_list, min_word_length=4, max_words=15).generate(allWords)\n",
        "ax[2].imshow(wordCloud1)\n",
        "ax[2].set_title('Cluster 2')\n",
        "ax[2].axis('off')\n",
        "\n",
        "tab1 = data[data[\"clusters\"]==3]\n",
        "allWords = ' '.join([twts for twts in tab1['translated_text']])\n",
        "wordCloud1 = WordCloud(width = 500, height = 300, random_state = 21, max_font_size = 119,background_color=\"white\", stopwords=stopwords_list, min_word_length=4, max_words=15).generate(allWords)\n",
        "ax[3].imshow(wordCloud1)\n",
        "ax[3].set_title('Cluster 3')\n",
        "ax[3].axis('off')\n",
        "fig.set_size_inches(20,9)\n",
        "fig.savefig('Img/wordcloud_english.pdf', format='pdf', dpi=100);"
      ],
      "execution_count": null,
      "outputs": [
        {
          "output_type": "display_data",
          "data": {
            "text/plain": [
              "<Figure size 1440x648 with 4 Axes>"
            ],
            "image/png": "[encoded data removed]"
          },
          "metadata": {}
        }
      ]
    },
    {
      "cell_type": "code",
      "source": [
        "parameters = {'axes.labelsize': 12,\n",
        "          'axes.titlesize': 9,\n",
        "          'xtick.labelsize':12,\n",
        "          'font.size':12}\n",
        "plt.rcParams.update(parameters)\n",
        "\n",
        "stopwords_list = list(stopwords.words('english')) + ['failure', 'Lasso', 'Guillermo', 'National', 'Strike', 'lasso', 'guillermo', 'national', 'strike', 'ecuador', 'Ecuador', 'flexed', 'biceps']\n",
        "\n",
        "fig, ax = plt.subplots(3,1)\n",
        "tab1 = data[data[\"clusters\"]==0]\n",
        "allWords = ' '.join([twts for twts in tab1['translated_text']])\n",
        "wordCloud1 = WordCloud(width = 500, height = 300, random_state = 21, max_font_size = 119,background_color=\"white\", stopwords=stopwords_list, min_word_length=4, max_words=15).generate(allWords)\n",
        "ax[0].imshow(wordCloud1)\n",
        "ax[0].set_title('Cluster 0')\n",
        "ax[0].axis('off')\n",
        "\n",
        "tab1 = data[data[\"clusters\"]==1]\n",
        "allWords = ' '.join([twts for twts in tab1['translated_text']])\n",
        "wordCloud1 = WordCloud(width = 500, height = 300, random_state = 21, max_font_size = 119,background_color=\"white\", stopwords=stopwords_list, min_word_length=4, max_words=15).generate(allWords)\n",
        "ax[1].imshow(wordCloud1)\n",
        "ax[1].set_title('Cluster 1')\n",
        "ax[1].axis('off')\n",
        "\n",
        "tab1 = data[data[\"clusters\"]==2]\n",
        "allWords = ' '.join([twts for twts in tab1['translated_text']])\n",
        "wordCloud1 = WordCloud(width = 500, height = 300, random_state = 21, max_font_size = 119,background_color=\"white\", stopwords=stopwords_list, min_word_length=4, max_words=15).generate(allWords)\n",
        "ax[2].imshow(wordCloud1)\n",
        "ax[2].set_title('Cluster 2')\n",
        "ax[2].axis('off')\n",
        "#fig.set_size_inches(15,9)\n",
        "fig.savefig('Img/wordcloud_spanish.pdf', format='pdf', dpi=100);"
      ],
      "metadata": {
        "colab": {
          "base_uri": "https://localhost:8080/",
          "height": 260
        },
        "id": "WOgs0vTj4vjo",
        "outputId": "b2928e6d-3852-46cb-9985-e6e19ebec309"
      },
      "execution_count": null,
      "outputs": [
        {
          "output_type": "display_data",
          "data": {
            "text/plain": [
              "<Figure size 432x288 with 3 Axes>"
            ],
            "image/png": "[encoded data removed]"
          },
          "metadata": {}
        }
      ]
    },
    {
      "cell_type": "markdown",
      "metadata": {
        "id": "gUkuQIg4PtLf"
      },
      "source": [
        "# Sentiment Analysis"
      ]
    },
    {
      "cell_type": "code",
      "metadata": {
        "id": "bRuMDV5ZruMq"
      },
      "source": [
        "def getAnalysis(score):\n",
        "    if score < 0:\n",
        "        return \"Negative\"\n",
        "    elif score == 0:\n",
        "        return \"Neutral\"\n",
        "    else:\n",
        "        return \"Positive\"\n"
      ],
      "execution_count": null,
      "outputs": []
    },
    {
      "cell_type": "markdown",
      "metadata": {
        "id": "kqanYz8uPx1X"
      },
      "source": [
        "### TextBlob"
      ]
    },
    {
      "cell_type": "code",
      "metadata": {
        "colab": {
          "base_uri": "https://localhost:8080/",
          "height": 337
        },
        "id": "K75G7vQEpiHt",
        "outputId": "ce3e5c13-7f93-4b07-9ca1-65b2328aa027"
      },
      "source": [
        "from textblob import TextBlob\n",
        "\n",
        "data['polarity'] = data['translated_text'].apply(lambda x:TextBlob(x).sentiment.polarity)\n",
        "data.head()"
      ],
      "execution_count": null,
      "outputs": [
        {
          "output_type": "execute_result",
          "data": {
            "text/plain": [
              "                id_str                                               text  \\\n",
              "0  1453511771793371139  #ParoNacional ay está lindo el paro #NoAlParo ...   \n",
              "1  1453511632521502721  @wilfridolaz La gente sabe !! La gente entiend...   \n",
              "2  1453511317394968576  ¡Que belleza!  Deja ordenando que le archiven ...   \n",
              "3  1453511181805752330  @LassoGuillermo Si, pero vaya a la @AsambleaEc...   \n",
              "4  1453511169981956099  Tan falsa esta nota, porque el pasado, el pres...   \n",
              "\n",
              "         from_user                 created_at  user_followers_count  \\\n",
              "0    cacaguate2021  2021-10-27 18:59:45+00:00                    82   \n",
              "1  Fernand10517208  2021-10-27 18:59:12+00:00                   172   \n",
              "2     maferlarreaf  2021-10-27 18:57:57+00:00                   565   \n",
              "3          alexazo  2021-10-27 18:57:25+00:00                   305   \n",
              "4       nespinosaa  2021-10-27 18:57:22+00:00                   945   \n",
              "\n",
              "   user_friends_count                                         clean_text  \\\n",
              "0               139.0  Paro Nacional ay está lindo el paro No al paro...   \n",
              "1               328.0  La gente sabe !! La gente entiende!! Que tu er...   \n",
              "2               363.0  ¡Que belleza! Deja ordenando que le archiven l...   \n",
              "3               305.0  Guillermo Lasso Si, pero vaya a la Asamblea Ec...   \n",
              "4               635.0  Tan falsa esta nota, porque el pasado, el pres...   \n",
              "\n",
              "                                     translated_text  polarity  \n",
              "0  National Unemployment, the unemployment is nic...  0.407143  \n",
              "1  The people knows !! People understand !! That ... -0.316667  \n",
              "2  That beauty! He leaves ordering that the inves...  0.016667  \n",
              "3  Guillermo Lasso Yes, but go to the Ecuadorian ...  0.000000  \n",
              "4  So false this note, because the past, the pres... -0.130000  "
            ],
            "text/html": [
              "\n",
              "  <div id=\"df-b0ed8370-13b5-4e7a-9d78-a7c5e308aad1\">\n",
              "    <div class=\"colab-df-container\">\n",
              "      <div>\n",
              "<style scoped>\n",
              "    .dataframe tbody tr th:only-of-type {\n",
              "        vertical-align: middle;\n",
              "    }\n",
              "\n",
              "    .dataframe tbody tr th {\n",
              "        vertical-align: top;\n",
              "    }\n",
              "\n",
              "    .dataframe thead th {\n",
              "        text-align: right;\n",
              "    }\n",
              "</style>\n",
              "<table border=\"1\" class=\"dataframe\">\n",
              "  <thead>\n",
              "    <tr style=\"text-align: right;\">\n",
              "      <th></th>\n",
              "      <th>id_str</th>\n",
              "      <th>text</th>\n",
              "      <th>from_user</th>\n",
              "      <th>created_at</th>\n",
              "      <th>user_followers_count</th>\n",
              "      <th>user_friends_count</th>\n",
              "      <th>clean_text</th>\n",
              "      <th>translated_text</th>\n",
              "      <th>polarity</th>\n",
              "    </tr>\n",
              "  </thead>\n",
              "  <tbody>\n",
              "    <tr>\n",
              "      <th>0</th>\n",
              "      <td>1453511771793371139</td>\n",
              "      <td>#ParoNacional ay está lindo el paro #NoAlParo ...</td>\n",
              "      <td>cacaguate2021</td>\n",
              "      <td>2021-10-27 18:59:45+00:00</td>\n",
              "      <td>82</td>\n",
              "      <td>139.0</td>\n",
              "      <td>Paro Nacional ay está lindo el paro No al paro...</td>\n",
              "      <td>National Unemployment, the unemployment is nic...</td>\n",
              "      <td>0.407143</td>\n",
              "    </tr>\n",
              "    <tr>\n",
              "      <th>1</th>\n",
              "      <td>1453511632521502721</td>\n",
              "      <td>@wilfridolaz La gente sabe !! La gente entiend...</td>\n",
              "      <td>Fernand10517208</td>\n",
              "      <td>2021-10-27 18:59:12+00:00</td>\n",
              "      <td>172</td>\n",
              "      <td>328.0</td>\n",
              "      <td>La gente sabe !! La gente entiende!! Que tu er...</td>\n",
              "      <td>The people knows !! People understand !! That ...</td>\n",
              "      <td>-0.316667</td>\n",
              "    </tr>\n",
              "    <tr>\n",
              "      <th>2</th>\n",
              "      <td>1453511317394968576</td>\n",
              "      <td>¡Que belleza!  Deja ordenando que le archiven ...</td>\n",
              "      <td>maferlarreaf</td>\n",
              "      <td>2021-10-27 18:57:57+00:00</td>\n",
              "      <td>565</td>\n",
              "      <td>363.0</td>\n",
              "      <td>¡Que belleza! Deja ordenando que le archiven l...</td>\n",
              "      <td>That beauty! He leaves ordering that the inves...</td>\n",
              "      <td>0.016667</td>\n",
              "    </tr>\n",
              "    <tr>\n",
              "      <th>3</th>\n",
              "      <td>1453511181805752330</td>\n",
              "      <td>@LassoGuillermo Si, pero vaya a la @AsambleaEc...</td>\n",
              "      <td>alexazo</td>\n",
              "      <td>2021-10-27 18:57:25+00:00</td>\n",
              "      <td>305</td>\n",
              "      <td>305.0</td>\n",
              "      <td>Guillermo Lasso Si, pero vaya a la Asamblea Ec...</td>\n",
              "      <td>Guillermo Lasso Yes, but go to the Ecuadorian ...</td>\n",
              "      <td>0.000000</td>\n",
              "    </tr>\n",
              "    <tr>\n",
              "      <th>4</th>\n",
              "      <td>1453511169981956099</td>\n",
              "      <td>Tan falsa esta nota, porque el pasado, el pres...</td>\n",
              "      <td>nespinosaa</td>\n",
              "      <td>2021-10-27 18:57:22+00:00</td>\n",
              "      <td>945</td>\n",
              "      <td>635.0</td>\n",
              "      <td>Tan falsa esta nota, porque el pasado, el pres...</td>\n",
              "      <td>So false this note, because the past, the pres...</td>\n",
              "      <td>-0.130000</td>\n",
              "    </tr>\n",
              "  </tbody>\n",
              "</table>\n",
              "</div>\n",
              "      <button class=\"colab-df-convert\" onclick=\"convertToInteractive('df-b0ed8370-13b5-4e7a-9d78-a7c5e308aad1')\"\n",
              "              title=\"Convert this dataframe to an interactive table.\"\n",
              "              style=\"display:none;\">\n",
              "        \n",
              "  <svg xmlns=\"http://www.w3.org/2000/svg\" height=\"24px\"viewBox=\"0 0 24 24\"\n",
              "       width=\"24px\">\n",
              "    <path d=\"M0 0h24v24H0V0z\" fill=\"none\"/>\n",
              "    <path d=\"M18.56 5.44l.94 2.06.94-2.06 2.06-.94-2.06-.94-.94-2.06-.94 2.06-2.06.94zm-11 1L8.5 8.5l.94-2.06 2.06-.94-2.06-.94L8.5 2.5l-.94 2.06-2.06.94zm10 10l.94 2.06.94-2.06 2.06-.94-2.06-.94-.94-2.06-.94 2.06-2.06.94z\"/><path d=\"M17.41 7.96l-1.37-1.37c-.4-.4-.92-.59-1.43-.59-.52 0-1.04.2-1.43.59L10.3 9.45l-7.72 7.72c-.78.78-.78 2.05 0 2.83L4 21.41c.39.39.9.59 1.41.59.51 0 1.02-.2 1.41-.59l7.78-7.78 2.81-2.81c.8-.78.8-2.07 0-2.86zM5.41 20L4 18.59l7.72-7.72 1.47 1.35L5.41 20z\"/>\n",
              "  </svg>\n",
              "      </button>\n",
              "      \n",
              "  <style>\n",
              "    .colab-df-container {\n",
              "      display:flex;\n",
              "      flex-wrap:wrap;\n",
              "      gap: 12px;\n",
              "    }\n",
              "\n",
              "    .colab-df-convert {\n",
              "      background-color: #E8F0FE;\n",
              "      border: none;\n",
              "      border-radius: 50%;\n",
              "      cursor: pointer;\n",
              "      display: none;\n",
              "      fill: #1967D2;\n",
              "      height: 32px;\n",
              "      padding: 0 0 0 0;\n",
              "      width: 32px;\n",
              "    }\n",
              "\n",
              "    .colab-df-convert:hover {\n",
              "      background-color: #E2EBFA;\n",
              "      box-shadow: 0px 1px 2px rgba(60, 64, 67, 0.3), 0px 1px 3px 1px rgba(60, 64, 67, 0.15);\n",
              "      fill: #174EA6;\n",
              "    }\n",
              "\n",
              "    [theme=dark] .colab-df-convert {\n",
              "      background-color: #3B4455;\n",
              "      fill: #D2E3FC;\n",
              "    }\n",
              "\n",
              "    [theme=dark] .colab-df-convert:hover {\n",
              "      background-color: #434B5C;\n",
              "      box-shadow: 0px 1px 3px 1px rgba(0, 0, 0, 0.15);\n",
              "      filter: drop-shadow(0px 1px 2px rgba(0, 0, 0, 0.3));\n",
              "      fill: #FFFFFF;\n",
              "    }\n",
              "  </style>\n",
              "\n",
              "      <script>\n",
              "        const buttonEl =\n",
              "          document.querySelector('#df-b0ed8370-13b5-4e7a-9d78-a7c5e308aad1 button.colab-df-convert');\n",
              "        buttonEl.style.display =\n",
              "          google.colab.kernel.accessAllowed ? 'block' : 'none';\n",
              "\n",
              "        async function convertToInteractive(key) {\n",
              "          const element = document.querySelector('#df-b0ed8370-13b5-4e7a-9d78-a7c5e308aad1');\n",
              "          const dataTable =\n",
              "            await google.colab.kernel.invokeFunction('convertToInteractive',\n",
              "                                                     [key], {});\n",
              "          if (!dataTable) return;\n",
              "\n",
              "          const docLinkHtml = 'Like what you see? Visit the ' +\n",
              "            '<a target=\"_blank\" href=https://colab.research.google.com/notebooks/data_table.ipynb>data table notebook</a>'\n",
              "            + ' to learn more about interactive tables.';\n",
              "          element.innerHTML = '';\n",
              "          dataTable['output_type'] = 'display_data';\n",
              "          await google.colab.output.renderOutput(dataTable, element);\n",
              "          const docLink = document.createElement('div');\n",
              "          docLink.innerHTML = docLinkHtml;\n",
              "          element.appendChild(docLink);\n",
              "        }\n",
              "      </script>\n",
              "    </div>\n",
              "  </div>\n",
              "  "
            ]
          },
          "metadata": {},
          "execution_count": 6
        }
      ]
    },
    {
      "cell_type": "code",
      "metadata": {
        "id": "zZBd-5uweAUt"
      },
      "source": [
        "data[['id_str', 'clusters']].to_csv('Data/tweets_clusters.tsv', sep='\\t', index=False)\n",
        "data[['id_str', 'polarity']].to_csv('Data/tweets_polarity.tsv', sep='\\t', index=False)"
      ],
      "execution_count": null,
      "outputs": []
    },
    {
      "cell_type": "code",
      "source": [
        "tweets_clusters = pd.read_csv('Data/tweets_clusters.tsv', sep='\\t')\n",
        "tweets_clusters.head()"
      ],
      "metadata": {
        "colab": {
          "base_uri": "https://localhost:8080/",
          "height": 206
        },
        "id": "0BYTiMSb3DOy",
        "outputId": "a0bba3df-577f-44d2-8423-e2f2afc83ebf"
      },
      "execution_count": null,
      "outputs": [
        {
          "output_type": "execute_result",
          "data": {
            "text/plain": [
              "                id_str  clusters\n",
              "0  1453511771793371139         3\n",
              "1  1453511632521502721         0\n",
              "2  1453511317394968576         2\n",
              "3  1453511181805752330         0\n",
              "4  1453511169981956099         2"
            ],
            "text/html": [
              "\n",
              "  <div id=\"df-d4bc5f6c-7ffb-41f5-9a12-e01410681648\">\n",
              "    <div class=\"colab-df-container\">\n",
              "      <div>\n",
              "<style scoped>\n",
              "    .dataframe tbody tr th:only-of-type {\n",
              "        vertical-align: middle;\n",
              "    }\n",
              "\n",
              "    .dataframe tbody tr th {\n",
              "        vertical-align: top;\n",
              "    }\n",
              "\n",
              "    .dataframe thead th {\n",
              "        text-align: right;\n",
              "    }\n",
              "</style>\n",
              "<table border=\"1\" class=\"dataframe\">\n",
              "  <thead>\n",
              "    <tr style=\"text-align: right;\">\n",
              "      <th></th>\n",
              "      <th>id_str</th>\n",
              "      <th>clusters</th>\n",
              "    </tr>\n",
              "  </thead>\n",
              "  <tbody>\n",
              "    <tr>\n",
              "      <th>0</th>\n",
              "      <td>1453511771793371139</td>\n",
              "      <td>3</td>\n",
              "    </tr>\n",
              "    <tr>\n",
              "      <th>1</th>\n",
              "      <td>1453511632521502721</td>\n",
              "      <td>0</td>\n",
              "    </tr>\n",
              "    <tr>\n",
              "      <th>2</th>\n",
              "      <td>1453511317394968576</td>\n",
              "      <td>2</td>\n",
              "    </tr>\n",
              "    <tr>\n",
              "      <th>3</th>\n",
              "      <td>1453511181805752330</td>\n",
              "      <td>0</td>\n",
              "    </tr>\n",
              "    <tr>\n",
              "      <th>4</th>\n",
              "      <td>1453511169981956099</td>\n",
              "      <td>2</td>\n",
              "    </tr>\n",
              "  </tbody>\n",
              "</table>\n",
              "</div>\n",
              "      <button class=\"colab-df-convert\" onclick=\"convertToInteractive('df-d4bc5f6c-7ffb-41f5-9a12-e01410681648')\"\n",
              "              title=\"Convert this dataframe to an interactive table.\"\n",
              "              style=\"display:none;\">\n",
              "        \n",
              "  <svg xmlns=\"http://www.w3.org/2000/svg\" height=\"24px\"viewBox=\"0 0 24 24\"\n",
              "       width=\"24px\">\n",
              "    <path d=\"M0 0h24v24H0V0z\" fill=\"none\"/>\n",
              "    <path d=\"M18.56 5.44l.94 2.06.94-2.06 2.06-.94-2.06-.94-.94-2.06-.94 2.06-2.06.94zm-11 1L8.5 8.5l.94-2.06 2.06-.94-2.06-.94L8.5 2.5l-.94 2.06-2.06.94zm10 10l.94 2.06.94-2.06 2.06-.94-2.06-.94-.94-2.06-.94 2.06-2.06.94z\"/><path d=\"M17.41 7.96l-1.37-1.37c-.4-.4-.92-.59-1.43-.59-.52 0-1.04.2-1.43.59L10.3 9.45l-7.72 7.72c-.78.78-.78 2.05 0 2.83L4 21.41c.39.39.9.59 1.41.59.51 0 1.02-.2 1.41-.59l7.78-7.78 2.81-2.81c.8-.78.8-2.07 0-2.86zM5.41 20L4 18.59l7.72-7.72 1.47 1.35L5.41 20z\"/>\n",
              "  </svg>\n",
              "      </button>\n",
              "      \n",
              "  <style>\n",
              "    .colab-df-container {\n",
              "      display:flex;\n",
              "      flex-wrap:wrap;\n",
              "      gap: 12px;\n",
              "    }\n",
              "\n",
              "    .colab-df-convert {\n",
              "      background-color: #E8F0FE;\n",
              "      border: none;\n",
              "      border-radius: 50%;\n",
              "      cursor: pointer;\n",
              "      display: none;\n",
              "      fill: #1967D2;\n",
              "      height: 32px;\n",
              "      padding: 0 0 0 0;\n",
              "      width: 32px;\n",
              "    }\n",
              "\n",
              "    .colab-df-convert:hover {\n",
              "      background-color: #E2EBFA;\n",
              "      box-shadow: 0px 1px 2px rgba(60, 64, 67, 0.3), 0px 1px 3px 1px rgba(60, 64, 67, 0.15);\n",
              "      fill: #174EA6;\n",
              "    }\n",
              "\n",
              "    [theme=dark] .colab-df-convert {\n",
              "      background-color: #3B4455;\n",
              "      fill: #D2E3FC;\n",
              "    }\n",
              "\n",
              "    [theme=dark] .colab-df-convert:hover {\n",
              "      background-color: #434B5C;\n",
              "      box-shadow: 0px 1px 3px 1px rgba(0, 0, 0, 0.15);\n",
              "      filter: drop-shadow(0px 1px 2px rgba(0, 0, 0, 0.3));\n",
              "      fill: #FFFFFF;\n",
              "    }\n",
              "  </style>\n",
              "\n",
              "      <script>\n",
              "        const buttonEl =\n",
              "          document.querySelector('#df-d4bc5f6c-7ffb-41f5-9a12-e01410681648 button.colab-df-convert');\n",
              "        buttonEl.style.display =\n",
              "          google.colab.kernel.accessAllowed ? 'block' : 'none';\n",
              "\n",
              "        async function convertToInteractive(key) {\n",
              "          const element = document.querySelector('#df-d4bc5f6c-7ffb-41f5-9a12-e01410681648');\n",
              "          const dataTable =\n",
              "            await google.colab.kernel.invokeFunction('convertToInteractive',\n",
              "                                                     [key], {});\n",
              "          if (!dataTable) return;\n",
              "\n",
              "          const docLinkHtml = 'Like what you see? Visit the ' +\n",
              "            '<a target=\"_blank\" href=https://colab.research.google.com/notebooks/data_table.ipynb>data table notebook</a>'\n",
              "            + ' to learn more about interactive tables.';\n",
              "          element.innerHTML = '';\n",
              "          dataTable['output_type'] = 'display_data';\n",
              "          await google.colab.output.renderOutput(dataTable, element);\n",
              "          const docLink = document.createElement('div');\n",
              "          docLink.innerHTML = docLinkHtml;\n",
              "          element.appendChild(docLink);\n",
              "        }\n",
              "      </script>\n",
              "    </div>\n",
              "  </div>\n",
              "  "
            ]
          },
          "metadata": {},
          "execution_count": 10
        }
      ]
    },
    {
      "cell_type": "markdown",
      "metadata": {
        "id": "8qbN6jLJP1Yt"
      },
      "source": [
        "### NLTK"
      ]
    },
    {
      "cell_type": "code",
      "metadata": {
        "colab": {
          "base_uri": "https://localhost:8080/"
        },
        "id": "jcRKlnSLPCGO",
        "outputId": "710efbfd-8854-4458-fe11-1f70d66df07f"
      },
      "source": [
        "import nltk\n",
        "from nltk.sentiment import SentimentIntensityAnalyzer\n",
        "nltk.download('vader_lexicon')\n",
        "\n",
        "def polarity(s):\n",
        "  sentiment_analizer = SentimentIntensityAnalyzer()\n",
        "  return sentiment_analizer.polarity_scores(s)['compound']"
      ],
      "execution_count": null,
      "outputs": [
        {
          "output_type": "stream",
          "name": "stderr",
          "text": [
            "[nltk_data] Downloading package vader_lexicon to /root/nltk_data...\n"
          ]
        }
      ]
    },
    {
      "cell_type": "code",
      "metadata": {
        "colab": {
          "base_uri": "https://localhost:8080/",
          "height": 424
        },
        "id": "FkOoTW_jPrZv",
        "outputId": "75c14fa9-9853-47a2-e130-f4258ef49b66"
      },
      "source": [
        "data['polarity'] = data['translated_text'].apply(polarity)\n",
        "data.head()"
      ],
      "execution_count": null,
      "outputs": [
        {
          "output_type": "execute_result",
          "data": {
            "text/plain": [
              "                id_str                                               text  \\\n",
              "0  1453511771793371139  #ParoNacional ay está lindo el paro #NoAlParo ...   \n",
              "1  1453511632521502721  @wilfridolaz La gente sabe !! La gente entiend...   \n",
              "2  1453511317394968576  ¡Que belleza!  Deja ordenando que le archiven ...   \n",
              "3  1453511181805752330  @LassoGuillermo Si, pero vaya a la @AsambleaEc...   \n",
              "4  1453511169981956099  Tan falsa esta nota, porque el pasado, el pres...   \n",
              "\n",
              "         from_user                 created_at  user_followers_count  \\\n",
              "0    cacaguate2021  2021-10-27 18:59:45+00:00                    82   \n",
              "1  Fernand10517208  2021-10-27 18:59:12+00:00                   172   \n",
              "2     maferlarreaf  2021-10-27 18:57:57+00:00                   565   \n",
              "3          alexazo  2021-10-27 18:57:25+00:00                   305   \n",
              "4       nespinosaa  2021-10-27 18:57:22+00:00                   945   \n",
              "\n",
              "   user_friends_count                                         clean_text  \\\n",
              "0               139.0  paro nacional ay está lindo el paro no al paro...   \n",
              "1               328.0  la gente sabe    la gente entiende   que tu er...   \n",
              "2               363.0   que belleza  deja ordenando que le archiven l...   \n",
              "3               305.0  guillermo lasso si  pero vaya a la asamblea ec...   \n",
              "4               635.0  tan falsa esta nota  porque el pasado  el pres...   \n",
              "\n",
              "                                     translated_text  \\\n",
              "0  national unemployment  the unemployment is nic...   \n",
              "1  the people knows    people understand    that ...   \n",
              "2  that beauty  he leaves ordering that the inves...   \n",
              "3  guillermo lasso yes  but go to the ecuadorian ...   \n",
              "4  so false this note  because the past  the pres...   \n",
              "\n",
              "                                                 vec  clusters  polarity  \\\n",
              "0  [0.1721405029296875, 0.0068115234375, -0.04270...         3   -0.7964   \n",
              "1  [0.13222249348958334, -0.030459449404761904, -...         0   -0.7650   \n",
              "2  [0.036864367398348724, 0.024722316048362038, 0...         2    0.6908   \n",
              "3  [0.011734421188766891, 0.011685526048814928, 0...         2    0.0258   \n",
              "4  [0.02122893156828704, 0.059209470395688656, 0....         2   -0.1280   \n",
              "\n",
              "   Analysis  \n",
              "0  Positive  \n",
              "1  Negative  \n",
              "2  Positive  \n",
              "3   Neutral  \n",
              "4  Negative  "
            ],
            "text/html": [
              "\n",
              "  <div id=\"df-4f4b53e6-3c21-457e-ba35-615688467650\">\n",
              "    <div class=\"colab-df-container\">\n",
              "      <div>\n",
              "<style scoped>\n",
              "    .dataframe tbody tr th:only-of-type {\n",
              "        vertical-align: middle;\n",
              "    }\n",
              "\n",
              "    .dataframe tbody tr th {\n",
              "        vertical-align: top;\n",
              "    }\n",
              "\n",
              "    .dataframe thead th {\n",
              "        text-align: right;\n",
              "    }\n",
              "</style>\n",
              "<table border=\"1\" class=\"dataframe\">\n",
              "  <thead>\n",
              "    <tr style=\"text-align: right;\">\n",
              "      <th></th>\n",
              "      <th>id_str</th>\n",
              "      <th>text</th>\n",
              "      <th>from_user</th>\n",
              "      <th>created_at</th>\n",
              "      <th>user_followers_count</th>\n",
              "      <th>user_friends_count</th>\n",
              "      <th>clean_text</th>\n",
              "      <th>translated_text</th>\n",
              "      <th>vec</th>\n",
              "      <th>clusters</th>\n",
              "      <th>polarity</th>\n",
              "      <th>Analysis</th>\n",
              "    </tr>\n",
              "  </thead>\n",
              "  <tbody>\n",
              "    <tr>\n",
              "      <th>0</th>\n",
              "      <td>1453511771793371139</td>\n",
              "      <td>#ParoNacional ay está lindo el paro #NoAlParo ...</td>\n",
              "      <td>cacaguate2021</td>\n",
              "      <td>2021-10-27 18:59:45+00:00</td>\n",
              "      <td>82</td>\n",
              "      <td>139.0</td>\n",
              "      <td>paro nacional ay está lindo el paro no al paro...</td>\n",
              "      <td>national unemployment  the unemployment is nic...</td>\n",
              "      <td>[0.1721405029296875, 0.0068115234375, -0.04270...</td>\n",
              "      <td>3</td>\n",
              "      <td>-0.7964</td>\n",
              "      <td>Positive</td>\n",
              "    </tr>\n",
              "    <tr>\n",
              "      <th>1</th>\n",
              "      <td>1453511632521502721</td>\n",
              "      <td>@wilfridolaz La gente sabe !! La gente entiend...</td>\n",
              "      <td>Fernand10517208</td>\n",
              "      <td>2021-10-27 18:59:12+00:00</td>\n",
              "      <td>172</td>\n",
              "      <td>328.0</td>\n",
              "      <td>la gente sabe    la gente entiende   que tu er...</td>\n",
              "      <td>the people knows    people understand    that ...</td>\n",
              "      <td>[0.13222249348958334, -0.030459449404761904, -...</td>\n",
              "      <td>0</td>\n",
              "      <td>-0.7650</td>\n",
              "      <td>Negative</td>\n",
              "    </tr>\n",
              "    <tr>\n",
              "      <th>2</th>\n",
              "      <td>1453511317394968576</td>\n",
              "      <td>¡Que belleza!  Deja ordenando que le archiven ...</td>\n",
              "      <td>maferlarreaf</td>\n",
              "      <td>2021-10-27 18:57:57+00:00</td>\n",
              "      <td>565</td>\n",
              "      <td>363.0</td>\n",
              "      <td>que belleza  deja ordenando que le archiven l...</td>\n",
              "      <td>that beauty  he leaves ordering that the inves...</td>\n",
              "      <td>[0.036864367398348724, 0.024722316048362038, 0...</td>\n",
              "      <td>2</td>\n",
              "      <td>0.6908</td>\n",
              "      <td>Positive</td>\n",
              "    </tr>\n",
              "    <tr>\n",
              "      <th>3</th>\n",
              "      <td>1453511181805752330</td>\n",
              "      <td>@LassoGuillermo Si, pero vaya a la @AsambleaEc...</td>\n",
              "      <td>alexazo</td>\n",
              "      <td>2021-10-27 18:57:25+00:00</td>\n",
              "      <td>305</td>\n",
              "      <td>305.0</td>\n",
              "      <td>guillermo lasso si  pero vaya a la asamblea ec...</td>\n",
              "      <td>guillermo lasso yes  but go to the ecuadorian ...</td>\n",
              "      <td>[0.011734421188766891, 0.011685526048814928, 0...</td>\n",
              "      <td>2</td>\n",
              "      <td>0.0258</td>\n",
              "      <td>Neutral</td>\n",
              "    </tr>\n",
              "    <tr>\n",
              "      <th>4</th>\n",
              "      <td>1453511169981956099</td>\n",
              "      <td>Tan falsa esta nota, porque el pasado, el pres...</td>\n",
              "      <td>nespinosaa</td>\n",
              "      <td>2021-10-27 18:57:22+00:00</td>\n",
              "      <td>945</td>\n",
              "      <td>635.0</td>\n",
              "      <td>tan falsa esta nota  porque el pasado  el pres...</td>\n",
              "      <td>so false this note  because the past  the pres...</td>\n",
              "      <td>[0.02122893156828704, 0.059209470395688656, 0....</td>\n",
              "      <td>2</td>\n",
              "      <td>-0.1280</td>\n",
              "      <td>Negative</td>\n",
              "    </tr>\n",
              "  </tbody>\n",
              "</table>\n",
              "</div>\n",
              "      <button class=\"colab-df-convert\" onclick=\"convertToInteractive('df-4f4b53e6-3c21-457e-ba35-615688467650')\"\n",
              "              title=\"Convert this dataframe to an interactive table.\"\n",
              "              style=\"display:none;\">\n",
              "        \n",
              "  <svg xmlns=\"http://www.w3.org/2000/svg\" height=\"24px\"viewBox=\"0 0 24 24\"\n",
              "       width=\"24px\">\n",
              "    <path d=\"M0 0h24v24H0V0z\" fill=\"none\"/>\n",
              "    <path d=\"M18.56 5.44l.94 2.06.94-2.06 2.06-.94-2.06-.94-.94-2.06-.94 2.06-2.06.94zm-11 1L8.5 8.5l.94-2.06 2.06-.94-2.06-.94L8.5 2.5l-.94 2.06-2.06.94zm10 10l.94 2.06.94-2.06 2.06-.94-2.06-.94-.94-2.06-.94 2.06-2.06.94z\"/><path d=\"M17.41 7.96l-1.37-1.37c-.4-.4-.92-.59-1.43-.59-.52 0-1.04.2-1.43.59L10.3 9.45l-7.72 7.72c-.78.78-.78 2.05 0 2.83L4 21.41c.39.39.9.59 1.41.59.51 0 1.02-.2 1.41-.59l7.78-7.78 2.81-2.81c.8-.78.8-2.07 0-2.86zM5.41 20L4 18.59l7.72-7.72 1.47 1.35L5.41 20z\"/>\n",
              "  </svg>\n",
              "      </button>\n",
              "      \n",
              "  <style>\n",
              "    .colab-df-container {\n",
              "      display:flex;\n",
              "      flex-wrap:wrap;\n",
              "      gap: 12px;\n",
              "    }\n",
              "\n",
              "    .colab-df-convert {\n",
              "      background-color: #E8F0FE;\n",
              "      border: none;\n",
              "      border-radius: 50%;\n",
              "      cursor: pointer;\n",
              "      display: none;\n",
              "      fill: #1967D2;\n",
              "      height: 32px;\n",
              "      padding: 0 0 0 0;\n",
              "      width: 32px;\n",
              "    }\n",
              "\n",
              "    .colab-df-convert:hover {\n",
              "      background-color: #E2EBFA;\n",
              "      box-shadow: 0px 1px 2px rgba(60, 64, 67, 0.3), 0px 1px 3px 1px rgba(60, 64, 67, 0.15);\n",
              "      fill: #174EA6;\n",
              "    }\n",
              "\n",
              "    [theme=dark] .colab-df-convert {\n",
              "      background-color: #3B4455;\n",
              "      fill: #D2E3FC;\n",
              "    }\n",
              "\n",
              "    [theme=dark] .colab-df-convert:hover {\n",
              "      background-color: #434B5C;\n",
              "      box-shadow: 0px 1px 3px 1px rgba(0, 0, 0, 0.15);\n",
              "      filter: drop-shadow(0px 1px 2px rgba(0, 0, 0, 0.3));\n",
              "      fill: #FFFFFF;\n",
              "    }\n",
              "  </style>\n",
              "\n",
              "      <script>\n",
              "        const buttonEl =\n",
              "          document.querySelector('#df-4f4b53e6-3c21-457e-ba35-615688467650 button.colab-df-convert');\n",
              "        buttonEl.style.display =\n",
              "          google.colab.kernel.accessAllowed ? 'block' : 'none';\n",
              "\n",
              "        async function convertToInteractive(key) {\n",
              "          const element = document.querySelector('#df-4f4b53e6-3c21-457e-ba35-615688467650');\n",
              "          const dataTable =\n",
              "            await google.colab.kernel.invokeFunction('convertToInteractive',\n",
              "                                                     [key], {});\n",
              "          if (!dataTable) return;\n",
              "\n",
              "          const docLinkHtml = 'Like what you see? Visit the ' +\n",
              "            '<a target=\"_blank\" href=https://colab.research.google.com/notebooks/data_table.ipynb>data table notebook</a>'\n",
              "            + ' to learn more about interactive tables.';\n",
              "          element.innerHTML = '';\n",
              "          dataTable['output_type'] = 'display_data';\n",
              "          await google.colab.output.renderOutput(dataTable, element);\n",
              "          const docLink = document.createElement('div');\n",
              "          docLink.innerHTML = docLinkHtml;\n",
              "          element.appendChild(docLink);\n",
              "        }\n",
              "      </script>\n",
              "    </div>\n",
              "  </div>\n",
              "  "
            ]
          },
          "metadata": {},
          "execution_count": 36
        }
      ]
    },
    {
      "cell_type": "markdown",
      "metadata": {
        "id": "gAvOo9kTuMKz"
      },
      "source": [
        "### Spanish"
      ]
    },
    {
      "cell_type": "code",
      "metadata": {
        "id": "9y7dyvR_wPJn"
      },
      "source": [
        "def getAnalysis(score):\n",
        "    if score < -0.1:\n",
        "        return \"Negative\"\n",
        "    elif -0.1 <= score and score <= 0.1:\n",
        "        return \"Neutral\"\n",
        "    else:\n",
        "        return \"Positive\""
      ],
      "execution_count": null,
      "outputs": []
    },
    {
      "cell_type": "code",
      "metadata": {
        "colab": {
          "base_uri": "https://localhost:8080/"
        },
        "id": "VZkBA2ntp9UT",
        "outputId": "fb10c449-89df-412b-9892-b7b6d38e97e8"
      },
      "source": [
        "!pip install sentiment-analysis-spanish"
      ],
      "execution_count": null,
      "outputs": [
        {
          "output_type": "stream",
          "name": "stdout",
          "text": [
            "Looking in indexes: https://pypi.org/simple, https://us-python.pkg.dev/colab-wheels/public/simple/\n",
            "Collecting sentiment-analysis-spanish\n",
            "  Downloading sentiment_analysis_spanish-0.0.25-py3-none-any.whl (30.0 MB)\n",
            "\u001b[K     |████████████████████████████████| 30.0 MB 1.4 MB/s \n",
            "\u001b[?25hInstalling collected packages: sentiment-analysis-spanish\n",
            "Successfully installed sentiment-analysis-spanish-0.0.25\n"
          ]
        }
      ]
    },
    {
      "cell_type": "code",
      "metadata": {
        "colab": {
          "base_uri": "https://localhost:8080/"
        },
        "id": "bBvtJ1X8wlLQ",
        "outputId": "45c0349e-b4a3-4ba4-d891-e02b15ef71ec"
      },
      "source": [
        "from sentiment_analysis_spanish import sentiment_analysis\n",
        "\n",
        "sentiment_analizer = sentiment_analysis.SentimentAnalysisSpanish()\n",
        "\n",
        "def polarity(s):\n",
        "  score = sentiment_analizer.sentiment(s)\n",
        "  return -1*(1-score) + 1*(score)"
      ],
      "execution_count": null,
      "outputs": [
        {
          "output_type": "stream",
          "name": "stderr",
          "text": [
            "/usr/local/lib/python3.7/dist-packages/sklearn/base.py:338: UserWarning: Trying to unpickle estimator CountVectorizer from version 0.23.2 when using version 1.0.2. This might lead to breaking code or invalid results. Use at your own risk. For more info please refer to:\n",
            "https://scikit-learn.org/stable/modules/model_persistence.html#security-maintainability-limitations\n",
            "  UserWarning,\n",
            "/usr/local/lib/python3.7/dist-packages/sklearn/base.py:338: UserWarning: Trying to unpickle estimator MultinomialNB from version 0.23.2 when using version 1.0.2. This might lead to breaking code or invalid results. Use at your own risk. For more info please refer to:\n",
            "https://scikit-learn.org/stable/modules/model_persistence.html#security-maintainability-limitations\n",
            "  UserWarning,\n"
          ]
        }
      ]
    },
    {
      "cell_type": "code",
      "metadata": {
        "id": "mnPfpi8OxRt0"
      },
      "source": [
        "data['polarity'] = data['clean_text'].apply(polarity)"
      ],
      "execution_count": null,
      "outputs": []
    },
    {
      "cell_type": "code",
      "metadata": {
        "colab": {
          "base_uri": "https://localhost:8080/",
          "height": 424
        },
        "id": "uTQQBibiXzx8",
        "outputId": "01c62965-4253-4529-e55a-d76b3d61a267"
      },
      "source": [
        "data['Analysis'] = data['polarity'].apply(getAnalysis)\n",
        "data.head()"
      ],
      "execution_count": null,
      "outputs": [
        {
          "output_type": "execute_result",
          "data": {
            "text/plain": [
              "                id_str                                               text  \\\n",
              "0  1453511771793371139  #ParoNacional ay está lindo el paro #NoAlParo ...   \n",
              "1  1453511632521502721  @wilfridolaz La gente sabe !! La gente entiend...   \n",
              "2  1453511317394968576  ¡Que belleza!  Deja ordenando que le archiven ...   \n",
              "3  1453511181805752330  @LassoGuillermo Si, pero vaya a la @AsambleaEc...   \n",
              "4  1453511169981956099  Tan falsa esta nota, porque el pasado, el pres...   \n",
              "\n",
              "         from_user                 created_at  user_followers_count  \\\n",
              "0    cacaguate2021  2021-10-27 18:59:45+00:00                    82   \n",
              "1  Fernand10517208  2021-10-27 18:59:12+00:00                   172   \n",
              "2     maferlarreaf  2021-10-27 18:57:57+00:00                   565   \n",
              "3          alexazo  2021-10-27 18:57:25+00:00                   305   \n",
              "4       nespinosaa  2021-10-27 18:57:22+00:00                   945   \n",
              "\n",
              "   user_friends_count                                         clean_text  \\\n",
              "0               139.0  paro nacional ay está lindo el paro no al paro...   \n",
              "1               328.0  la gente sabe    la gente entiende   que tu er...   \n",
              "2               363.0   que belleza  deja ordenando que le archiven l...   \n",
              "3               305.0  guillermo lasso si  pero vaya a la asamblea ec...   \n",
              "4               635.0  tan falsa esta nota  porque el pasado  el pres...   \n",
              "\n",
              "                                     translated_text  \\\n",
              "0  national unemployment  the unemployment is nic...   \n",
              "1  the people knows    people understand    that ...   \n",
              "2  that beauty  he leaves ordering that the inves...   \n",
              "3  guillermo lasso yes  but go to the ecuadorian ...   \n",
              "4  so false this note  because the past  the pres...   \n",
              "\n",
              "                                                 vec  clusters  polarity  \\\n",
              "0  [-0.10658185137435794, -0.10355952673126012, 0...         0 -0.431397   \n",
              "1  [-0.04226909261196852, -0.12904876619577407, 0...         0 -0.999770   \n",
              "2  [-0.04375301399838408, -0.09248300750528424, 0...         0 -1.000000   \n",
              "3  [-0.02154537979804445, -0.0927749800030142, 0....         0 -1.000000   \n",
              "4  [-0.03721596811327242, -0.041600553356411475, ...         0 -0.999026   \n",
              "\n",
              "   Analysis  \n",
              "0  Negative  \n",
              "1  Negative  \n",
              "2  Negative  \n",
              "3  Negative  \n",
              "4  Negative  "
            ],
            "text/html": [
              "\n",
              "  <div id=\"df-e8abd3ec-29ef-432e-a6da-219300f5f7c4\">\n",
              "    <div class=\"colab-df-container\">\n",
              "      <div>\n",
              "<style scoped>\n",
              "    .dataframe tbody tr th:only-of-type {\n",
              "        vertical-align: middle;\n",
              "    }\n",
              "\n",
              "    .dataframe tbody tr th {\n",
              "        vertical-align: top;\n",
              "    }\n",
              "\n",
              "    .dataframe thead th {\n",
              "        text-align: right;\n",
              "    }\n",
              "</style>\n",
              "<table border=\"1\" class=\"dataframe\">\n",
              "  <thead>\n",
              "    <tr style=\"text-align: right;\">\n",
              "      <th></th>\n",
              "      <th>id_str</th>\n",
              "      <th>text</th>\n",
              "      <th>from_user</th>\n",
              "      <th>created_at</th>\n",
              "      <th>user_followers_count</th>\n",
              "      <th>user_friends_count</th>\n",
              "      <th>clean_text</th>\n",
              "      <th>translated_text</th>\n",
              "      <th>vec</th>\n",
              "      <th>clusters</th>\n",
              "      <th>polarity</th>\n",
              "      <th>Analysis</th>\n",
              "    </tr>\n",
              "  </thead>\n",
              "  <tbody>\n",
              "    <tr>\n",
              "      <th>0</th>\n",
              "      <td>1453511771793371139</td>\n",
              "      <td>#ParoNacional ay está lindo el paro #NoAlParo ...</td>\n",
              "      <td>cacaguate2021</td>\n",
              "      <td>2021-10-27 18:59:45+00:00</td>\n",
              "      <td>82</td>\n",
              "      <td>139.0</td>\n",
              "      <td>paro nacional ay está lindo el paro no al paro...</td>\n",
              "      <td>national unemployment  the unemployment is nic...</td>\n",
              "      <td>[-0.10658185137435794, -0.10355952673126012, 0...</td>\n",
              "      <td>0</td>\n",
              "      <td>-0.431397</td>\n",
              "      <td>Negative</td>\n",
              "    </tr>\n",
              "    <tr>\n",
              "      <th>1</th>\n",
              "      <td>1453511632521502721</td>\n",
              "      <td>@wilfridolaz La gente sabe !! La gente entiend...</td>\n",
              "      <td>Fernand10517208</td>\n",
              "      <td>2021-10-27 18:59:12+00:00</td>\n",
              "      <td>172</td>\n",
              "      <td>328.0</td>\n",
              "      <td>la gente sabe    la gente entiende   que tu er...</td>\n",
              "      <td>the people knows    people understand    that ...</td>\n",
              "      <td>[-0.04226909261196852, -0.12904876619577407, 0...</td>\n",
              "      <td>0</td>\n",
              "      <td>-0.999770</td>\n",
              "      <td>Negative</td>\n",
              "    </tr>\n",
              "    <tr>\n",
              "      <th>2</th>\n",
              "      <td>1453511317394968576</td>\n",
              "      <td>¡Que belleza!  Deja ordenando que le archiven ...</td>\n",
              "      <td>maferlarreaf</td>\n",
              "      <td>2021-10-27 18:57:57+00:00</td>\n",
              "      <td>565</td>\n",
              "      <td>363.0</td>\n",
              "      <td>que belleza  deja ordenando que le archiven l...</td>\n",
              "      <td>that beauty  he leaves ordering that the inves...</td>\n",
              "      <td>[-0.04375301399838408, -0.09248300750528424, 0...</td>\n",
              "      <td>0</td>\n",
              "      <td>-1.000000</td>\n",
              "      <td>Negative</td>\n",
              "    </tr>\n",
              "    <tr>\n",
              "      <th>3</th>\n",
              "      <td>1453511181805752330</td>\n",
              "      <td>@LassoGuillermo Si, pero vaya a la @AsambleaEc...</td>\n",
              "      <td>alexazo</td>\n",
              "      <td>2021-10-27 18:57:25+00:00</td>\n",
              "      <td>305</td>\n",
              "      <td>305.0</td>\n",
              "      <td>guillermo lasso si  pero vaya a la asamblea ec...</td>\n",
              "      <td>guillermo lasso yes  but go to the ecuadorian ...</td>\n",
              "      <td>[-0.02154537979804445, -0.0927749800030142, 0....</td>\n",
              "      <td>0</td>\n",
              "      <td>-1.000000</td>\n",
              "      <td>Negative</td>\n",
              "    </tr>\n",
              "    <tr>\n",
              "      <th>4</th>\n",
              "      <td>1453511169981956099</td>\n",
              "      <td>Tan falsa esta nota, porque el pasado, el pres...</td>\n",
              "      <td>nespinosaa</td>\n",
              "      <td>2021-10-27 18:57:22+00:00</td>\n",
              "      <td>945</td>\n",
              "      <td>635.0</td>\n",
              "      <td>tan falsa esta nota  porque el pasado  el pres...</td>\n",
              "      <td>so false this note  because the past  the pres...</td>\n",
              "      <td>[-0.03721596811327242, -0.041600553356411475, ...</td>\n",
              "      <td>0</td>\n",
              "      <td>-0.999026</td>\n",
              "      <td>Negative</td>\n",
              "    </tr>\n",
              "  </tbody>\n",
              "</table>\n",
              "</div>\n",
              "      <button class=\"colab-df-convert\" onclick=\"convertToInteractive('df-e8abd3ec-29ef-432e-a6da-219300f5f7c4')\"\n",
              "              title=\"Convert this dataframe to an interactive table.\"\n",
              "              style=\"display:none;\">\n",
              "        \n",
              "  <svg xmlns=\"http://www.w3.org/2000/svg\" height=\"24px\"viewBox=\"0 0 24 24\"\n",
              "       width=\"24px\">\n",
              "    <path d=\"M0 0h24v24H0V0z\" fill=\"none\"/>\n",
              "    <path d=\"M18.56 5.44l.94 2.06.94-2.06 2.06-.94-2.06-.94-.94-2.06-.94 2.06-2.06.94zm-11 1L8.5 8.5l.94-2.06 2.06-.94-2.06-.94L8.5 2.5l-.94 2.06-2.06.94zm10 10l.94 2.06.94-2.06 2.06-.94-2.06-.94-.94-2.06-.94 2.06-2.06.94z\"/><path d=\"M17.41 7.96l-1.37-1.37c-.4-.4-.92-.59-1.43-.59-.52 0-1.04.2-1.43.59L10.3 9.45l-7.72 7.72c-.78.78-.78 2.05 0 2.83L4 21.41c.39.39.9.59 1.41.59.51 0 1.02-.2 1.41-.59l7.78-7.78 2.81-2.81c.8-.78.8-2.07 0-2.86zM5.41 20L4 18.59l7.72-7.72 1.47 1.35L5.41 20z\"/>\n",
              "  </svg>\n",
              "      </button>\n",
              "      \n",
              "  <style>\n",
              "    .colab-df-container {\n",
              "      display:flex;\n",
              "      flex-wrap:wrap;\n",
              "      gap: 12px;\n",
              "    }\n",
              "\n",
              "    .colab-df-convert {\n",
              "      background-color: #E8F0FE;\n",
              "      border: none;\n",
              "      border-radius: 50%;\n",
              "      cursor: pointer;\n",
              "      display: none;\n",
              "      fill: #1967D2;\n",
              "      height: 32px;\n",
              "      padding: 0 0 0 0;\n",
              "      width: 32px;\n",
              "    }\n",
              "\n",
              "    .colab-df-convert:hover {\n",
              "      background-color: #E2EBFA;\n",
              "      box-shadow: 0px 1px 2px rgba(60, 64, 67, 0.3), 0px 1px 3px 1px rgba(60, 64, 67, 0.15);\n",
              "      fill: #174EA6;\n",
              "    }\n",
              "\n",
              "    [theme=dark] .colab-df-convert {\n",
              "      background-color: #3B4455;\n",
              "      fill: #D2E3FC;\n",
              "    }\n",
              "\n",
              "    [theme=dark] .colab-df-convert:hover {\n",
              "      background-color: #434B5C;\n",
              "      box-shadow: 0px 1px 3px 1px rgba(0, 0, 0, 0.15);\n",
              "      filter: drop-shadow(0px 1px 2px rgba(0, 0, 0, 0.3));\n",
              "      fill: #FFFFFF;\n",
              "    }\n",
              "  </style>\n",
              "\n",
              "      <script>\n",
              "        const buttonEl =\n",
              "          document.querySelector('#df-e8abd3ec-29ef-432e-a6da-219300f5f7c4 button.colab-df-convert');\n",
              "        buttonEl.style.display =\n",
              "          google.colab.kernel.accessAllowed ? 'block' : 'none';\n",
              "\n",
              "        async function convertToInteractive(key) {\n",
              "          const element = document.querySelector('#df-e8abd3ec-29ef-432e-a6da-219300f5f7c4');\n",
              "          const dataTable =\n",
              "            await google.colab.kernel.invokeFunction('convertToInteractive',\n",
              "                                                     [key], {});\n",
              "          if (!dataTable) return;\n",
              "\n",
              "          const docLinkHtml = 'Like what you see? Visit the ' +\n",
              "            '<a target=\"_blank\" href=https://colab.research.google.com/notebooks/data_table.ipynb>data table notebook</a>'\n",
              "            + ' to learn more about interactive tables.';\n",
              "          element.innerHTML = '';\n",
              "          dataTable['output_type'] = 'display_data';\n",
              "          await google.colab.output.renderOutput(dataTable, element);\n",
              "          const docLink = document.createElement('div');\n",
              "          docLink.innerHTML = docLinkHtml;\n",
              "          element.appendChild(docLink);\n",
              "        }\n",
              "      </script>\n",
              "    </div>\n",
              "  </div>\n",
              "  "
            ]
          },
          "metadata": {},
          "execution_count": 64
        }
      ]
    },
    {
      "cell_type": "code",
      "metadata": {
        "colab": {
          "base_uri": "https://localhost:8080/",
          "height": 545
        },
        "id": "kPP7TuWgdRgI",
        "outputId": "274b7528-c930-493d-aec3-c9d70d9ba1c6"
      },
      "source": [
        "fig, ax = plt.subplots(3,1, figsize=(4,9))\n",
        "pie1 = data[data['clusters'] == 0][['Analysis', 'polarity']].groupby(by='Analysis').count()\n",
        "ax[0].pie(\n",
        "    pie1['polarity'],\n",
        "    colors=['red', 'dodgerblue', 'limegreen'],\n",
        "    labels=pie1.index.to_list(),\n",
        "    autopct='%1.1f%%',\n",
        "    explode=[0.1,0.,0.],\n",
        "    shadow=True, startangle=0\n",
        ")\n",
        "ax[0].axis('equal')\n",
        "ax[0].set_title('Cluster 0')\n",
        "\n",
        "pie1 = data[data['clusters'] == 1][['Analysis', 'polarity']].groupby(by='Analysis').count()\n",
        "ax[1].pie(\n",
        "    pie1['polarity'],\n",
        "    colors=['red', 'dodgerblue', 'limegreen'],\n",
        "    labels=pie1.index.to_list(),\n",
        "    autopct='%1.1f%%',\n",
        "    explode=[0.1,0.,0.],\n",
        "    shadow=True, startangle=0\n",
        ")\n",
        "ax[1].axis('equal')\n",
        "ax[1].set_title('Cluster 1')\n",
        "\n",
        "pie1 = data[data['clusters'] == 2][['Analysis', 'polarity']].groupby(by='Analysis').count()\n",
        "ax[2].pie(\n",
        "    pie1['polarity'],\n",
        "    colors=['red', 'dodgerblue', 'limegreen'],\n",
        "    labels=pie1.index.to_list(),\n",
        "    autopct='%1.1f%%',\n",
        "    explode=[0.1,0.,0.],\n",
        "    shadow=True, startangle=90\n",
        ")\n",
        "ax[2].axis('equal')\n",
        "ax[2].set_title('Cluster 2')\n",
        "\n",
        "#pie1 = data[data['clusters'] == 3][['Analysis', 'polarity']].groupby(by='Analysis').count()\n",
        "#ax[1,1].pie(\n",
        "#    pie1['polarity'],\n",
        "#    colors=['red', 'dodgerblue', 'limegreen'],\n",
        "#    labels=pie1.index.to_list(),\n",
        "#    autopct='%1.1f%%',\n",
        "#    explode=[0.1,0.,0.],\n",
        "#    shadow=True, startangle=0\n",
        "#)\n",
        "#ax[1,1].axis('equal')\n",
        "#ax[1,1].set_title('Cluster 3')\n",
        "fig.set_size_inches(4,9)\n",
        "fig.savefig('Img/polarity_spanish.pdf', format='pdf', dpi=100);"
      ],
      "execution_count": null,
      "outputs": [
        {
          "output_type": "display_data",
          "data": {
            "text/plain": [
              "<Figure size 288x648 with 3 Axes>"
            ],
            "image/png": "[encoded data removed]"
          },
          "metadata": {}
        }
      ]
    },
    {
      "cell_type": "code",
      "source": [
        "fig, ax = plt.subplots(4,1, figsize=(4,12))\n",
        "pie1 = data[data['clusters'] == 0][['Analysis', 'polarity']].groupby(by='Analysis').count()\n",
        "ax[0].pie(\n",
        "    pie1['polarity'],\n",
        "    colors=['red', 'dodgerblue', 'limegreen'],\n",
        "    labels=pie1.index.to_list(),\n",
        "    autopct='%1.1f%%',\n",
        "    explode=[0.1,0.,0.],\n",
        "    shadow=True, startangle=90\n",
        ")\n",
        "ax[0].axis('equal')\n",
        "ax[0].set_title('Cluster 0')\n",
        "\n",
        "pie1 = data[data['clusters'] == 1][['Analysis', 'polarity']].groupby(by='Analysis').count()\n",
        "ax[1].pie(\n",
        "    pie1['polarity'],\n",
        "    colors=['red', 'dodgerblue', 'limegreen'],\n",
        "    labels=pie1.index.to_list(),\n",
        "    autopct='%1.1f%%',\n",
        "    explode=[0.1,0.,0.],\n",
        "    shadow=True, startangle=0\n",
        ")\n",
        "ax[1].axis('equal')\n",
        "ax[1].set_title('Cluster 1')\n",
        "\n",
        "pie1 = data[data['clusters'] == 2][['Analysis', 'polarity']].groupby(by='Analysis').count()\n",
        "ax[2].pie(\n",
        "    pie1['polarity'],\n",
        "    colors=['red', 'dodgerblue', 'limegreen'],\n",
        "    labels=pie1.index.to_list(),\n",
        "    autopct='%1.1f%%',\n",
        "    explode=[0.1,0.,0.],\n",
        "    shadow=True, startangle=90\n",
        ")\n",
        "ax[2].axis('equal')\n",
        "ax[2].set_title('Cluster 2')\n",
        "\n",
        "pie1 = data[data['clusters'] == 3][['Analysis', 'polarity']].groupby(by='Analysis').count()\n",
        "ax[3].pie(\n",
        "    pie1['polarity'],\n",
        "    colors=['red', 'dodgerblue', 'limegreen'],\n",
        "    labels=pie1.index.to_list(),\n",
        "    autopct='%1.1f%%',\n",
        "    explode=[0.1,0.,0.],\n",
        "    shadow=True, startangle=0\n",
        ")\n",
        "ax[3].axis('equal')\n",
        "ax[3].set_title('Cluster 3')\n",
        "fig.set_size_inches(4,12)\n",
        "fig.savefig('Img/polarity_nltk.pdf', format='pdf', dpi=100);"
      ],
      "metadata": {
        "colab": {
          "base_uri": "https://localhost:8080/",
          "height": 703
        },
        "id": "9-x_jZml8qsk",
        "outputId": "bdad2abd-0a5d-4393-be13-61f121e10485"
      },
      "execution_count": null,
      "outputs": [
        {
          "output_type": "display_data",
          "data": {
            "text/plain": [
              "<Figure size 288x864 with 4 Axes>"
            ],
            "image/png": "[encoded data removed]"
          },
          "metadata": {}
        }
      ]
    },
    {
      "cell_type": "code",
      "metadata": {
        "colab": {
          "base_uri": "https://localhost:8080/",
          "height": 363
        },
        "id": "Sow6nBD3bUhh",
        "outputId": "553a2cd3-4294-404a-d1b2-7cfd0b92486c"
      },
      "source": [
        "data[['clusters', 'Analysis', 'polarity']].groupby(['clusters', 'Analysis']).mean()"
      ],
      "execution_count": null,
      "outputs": [
        {
          "data": {
            "text/html": [
              "<div>\n",
              "<style scoped>\n",
              "    .dataframe tbody tr th:only-of-type {\n",
              "        vertical-align: middle;\n",
              "    }\n",
              "\n",
              "    .dataframe tbody tr th {\n",
              "        vertical-align: top;\n",
              "    }\n",
              "\n",
              "    .dataframe thead th {\n",
              "        text-align: right;\n",
              "    }\n",
              "</style>\n",
              "<table border=\"1\" class=\"dataframe\">\n",
              "  <thead>\n",
              "    <tr style=\"text-align: right;\">\n",
              "      <th></th>\n",
              "      <th></th>\n",
              "      <th>polarity</th>\n",
              "    </tr>\n",
              "    <tr>\n",
              "      <th>clusters</th>\n",
              "      <th>Analysis</th>\n",
              "      <th></th>\n",
              "    </tr>\n",
              "  </thead>\n",
              "  <tbody>\n",
              "    <tr>\n",
              "      <th rowspan=\"3\" valign=\"top\">0</th>\n",
              "      <th>Negative</th>\n",
              "      <td>-0.653989</td>\n",
              "    </tr>\n",
              "    <tr>\n",
              "      <th>Neutral</th>\n",
              "      <td>-0.000022</td>\n",
              "    </tr>\n",
              "    <tr>\n",
              "      <th>Positive</th>\n",
              "      <td>0.257302</td>\n",
              "    </tr>\n",
              "    <tr>\n",
              "      <th rowspan=\"3\" valign=\"top\">1</th>\n",
              "      <th>Negative</th>\n",
              "      <td>-0.895498</td>\n",
              "    </tr>\n",
              "    <tr>\n",
              "      <th>Neutral</th>\n",
              "      <td>-0.005568</td>\n",
              "    </tr>\n",
              "    <tr>\n",
              "      <th>Positive</th>\n",
              "      <td>0.483440</td>\n",
              "    </tr>\n",
              "    <tr>\n",
              "      <th rowspan=\"3\" valign=\"top\">2</th>\n",
              "      <th>Negative</th>\n",
              "      <td>-0.634789</td>\n",
              "    </tr>\n",
              "    <tr>\n",
              "      <th>Neutral</th>\n",
              "      <td>-0.002363</td>\n",
              "    </tr>\n",
              "    <tr>\n",
              "      <th>Positive</th>\n",
              "      <td>0.384840</td>\n",
              "    </tr>\n",
              "  </tbody>\n",
              "</table>\n",
              "</div>"
            ],
            "text/plain": [
              "                   polarity\n",
              "clusters Analysis          \n",
              "0        Negative -0.653989\n",
              "         Neutral  -0.000022\n",
              "         Positive  0.257302\n",
              "1        Negative -0.895498\n",
              "         Neutral  -0.005568\n",
              "         Positive  0.483440\n",
              "2        Negative -0.634789\n",
              "         Neutral  -0.002363\n",
              "         Positive  0.384840"
            ]
          },
          "execution_count": 20,
          "metadata": {},
          "output_type": "execute_result"
        }
      ]
    },
    {
      "cell_type": "markdown",
      "metadata": {
        "id": "nRfI2DAvanKU"
      },
      "source": [
        "# Grafo"
      ]
    },
    {
      "cell_type": "code",
      "metadata": {
        "colab": {
          "base_uri": "https://localhost:8080/",
          "height": 957
        },
        "id": "osjW6gYoatM0",
        "outputId": "79f11bb7-79fb-4371-f20f-bb45c8ef79b4"
      },
      "source": [
        "data[data['clusters'] == 1].sort_values(by=['polarity']).head(14)"
      ],
      "execution_count": null,
      "outputs": [
        {
          "output_type": "execute_result",
          "data": {
            "text/html": [
              "<div>\n",
              "<style scoped>\n",
              "    .dataframe tbody tr th:only-of-type {\n",
              "        vertical-align: middle;\n",
              "    }\n",
              "\n",
              "    .dataframe tbody tr th {\n",
              "        vertical-align: top;\n",
              "    }\n",
              "\n",
              "    .dataframe thead th {\n",
              "        text-align: right;\n",
              "    }\n",
              "</style>\n",
              "<table border=\"1\" class=\"dataframe\">\n",
              "  <thead>\n",
              "    <tr style=\"text-align: right;\">\n",
              "      <th></th>\n",
              "      <th>id_str</th>\n",
              "      <th>text</th>\n",
              "      <th>from_user</th>\n",
              "      <th>created_at</th>\n",
              "      <th>user_followers_count</th>\n",
              "      <th>user_friends_count</th>\n",
              "      <th>clean_text</th>\n",
              "      <th>translated_text</th>\n",
              "      <th>vec</th>\n",
              "      <th>clusters</th>\n",
              "      <th>polarity</th>\n",
              "    </tr>\n",
              "  </thead>\n",
              "  <tbody>\n",
              "    <tr>\n",
              "      <th>3474</th>\n",
              "      <td>1453117975054192642</td>\n",
              "      <td>evil Lasso #ParoNacional https://t.co/AP0q3tJsNQ</td>\n",
              "      <td>wuwuyoda</td>\n",
              "      <td>2021-10-26 16:54:57+00:00</td>\n",
              "      <td>46</td>\n",
              "      <td>65.0</td>\n",
              "      <td>evil Lasso Paro Nacional</td>\n",
              "      <td>evil lasso national strike</td>\n",
              "      <td>[0.05450439453125, 0.03509521484375, -0.078643...</td>\n",
              "      <td>1</td>\n",
              "      <td>-1.000000</td>\n",
              "    </tr>\n",
              "    <tr>\n",
              "      <th>3515</th>\n",
              "      <td>1453115738965819400</td>\n",
              "      <td>@Oliver60024638 @murillo_cabezas @Lenin #Lasso...</td>\n",
              "      <td>DigVallejo</td>\n",
              "      <td>2021-10-26 16:46:04+00:00</td>\n",
              "      <td>599</td>\n",
              "      <td>196.0</td>\n",
              "      <td>Lasso Corrupto es lo peor de lo peor.</td>\n",
              "      <td>lasso corrupto is the worst of the worst</td>\n",
              "      <td>[0.13626607259114584, -0.012247721354166666, 0...</td>\n",
              "      <td>1</td>\n",
              "      <td>-1.000000</td>\n",
              "    </tr>\n",
              "    <tr>\n",
              "      <th>4343</th>\n",
              "      <td>1453070474678784006</td>\n",
              "      <td>@LassoGuillermo Miserable Evasor. #PandoraPape...</td>\n",
              "      <td>UrbanoCrisdario</td>\n",
              "      <td>2021-10-26 13:46:12+00:00</td>\n",
              "      <td>574</td>\n",
              "      <td>643.0</td>\n",
              "      <td>Guillermo Lasso Miserable Evasor. Pandora Pape...</td>\n",
              "      <td>guillermo lasso miserable evasor  pandora pape...</td>\n",
              "      <td>[0.10811360677083333, 0.01513671875, -0.256469...</td>\n",
              "      <td>1</td>\n",
              "      <td>-1.000000</td>\n",
              "    </tr>\n",
              "    <tr>\n",
              "      <th>2848</th>\n",
              "      <td>1453152028193087490</td>\n",
              "      <td>Terrible!! #LassoCorrupto https://t.co/8sm18hMwsX</td>\n",
              "      <td>DigVallejo</td>\n",
              "      <td>2021-10-26 19:10:16+00:00</td>\n",
              "      <td>599</td>\n",
              "      <td>196.0</td>\n",
              "      <td>Terrible!! Lasso Corrupto</td>\n",
              "      <td>terrible   corrupted lasso</td>\n",
              "      <td>[0.15388997395833334, 0.08504231770833333, -0....</td>\n",
              "      <td>1</td>\n",
              "      <td>-1.000000</td>\n",
              "    </tr>\n",
              "    <tr>\n",
              "      <th>4034</th>\n",
              "      <td>1453090122073845761</td>\n",
              "      <td>@LassoGuillermo se indigna de él mismo. #Lasso...</td>\n",
              "      <td>danloga14</td>\n",
              "      <td>2021-10-26 15:04:16+00:00</td>\n",
              "      <td>31</td>\n",
              "      <td>165.0</td>\n",
              "      <td>Guillermo Lasso se indigna de él mismo. Lasso ...</td>\n",
              "      <td>guillermo lasso is outraged at himself  liar l...</td>\n",
              "      <td>[0.1656867133246528, 0.001980251736111111, -0....</td>\n",
              "      <td>1</td>\n",
              "      <td>-0.900000</td>\n",
              "    </tr>\n",
              "    <tr>\n",
              "      <th>6972</th>\n",
              "      <td>1452910232624148481</td>\n",
              "      <td>@ToreroEdison @BlancaLopezC_ OTRO TROLL HDP PA...</td>\n",
              "      <td>marthateresa</td>\n",
              "      <td>2021-10-26 03:09:27+00:00</td>\n",
              "      <td>1962</td>\n",
              "      <td>739.0</td>\n",
              "      <td>OTRO TROLL HDP PAGADO PARA DEFENDER AL MISERAB...</td>\n",
              "      <td>another hdp troll paid to defend the miserable...</td>\n",
              "      <td>[0.14061763368803878, -0.031625681910021554, -...</td>\n",
              "      <td>1</td>\n",
              "      <td>-0.658333</td>\n",
              "    </tr>\n",
              "    <tr>\n",
              "      <th>5994</th>\n",
              "      <td>1453006227118727197</td>\n",
              "      <td>Evidencias y pruebas contundentes, hasta cuand...</td>\n",
              "      <td>Moni_mc1968</td>\n",
              "      <td>2021-10-26 09:30:54+00:00</td>\n",
              "      <td>777</td>\n",
              "      <td>1886.0</td>\n",
              "      <td>Evidencias y pruebas contundentes, hasta cuand...</td>\n",
              "      <td>evidence and conclusive evidence  until when g...</td>\n",
              "      <td>[0.06670125325520833, -0.01790618896484375, -0...</td>\n",
              "      <td>1</td>\n",
              "      <td>-0.658333</td>\n",
              "    </tr>\n",
              "    <tr>\n",
              "      <th>7037</th>\n",
              "      <td>1452869614057177092</td>\n",
              "      <td>@LassoGuillermo La peor basura que pudo llegar...</td>\n",
              "      <td>vargas_tv91</td>\n",
              "      <td>2021-10-26 00:28:03+00:00</td>\n",
              "      <td>114</td>\n",
              "      <td>186.0</td>\n",
              "      <td>Guillermo Lasso La peor basura que pudo llegar...</td>\n",
              "      <td>guillermo lasso the worst garbage that could c...</td>\n",
              "      <td>[0.1389798251065341, 0.022549715909090908, -0....</td>\n",
              "      <td>1</td>\n",
              "      <td>-0.658333</td>\n",
              "    </tr>\n",
              "    <tr>\n",
              "      <th>2691</th>\n",
              "      <td>1453162738419740685</td>\n",
              "      <td>Policías infiltrados ?? Guillermo Lasso dement...</td>\n",
              "      <td>Carol2311921</td>\n",
              "      <td>2021-10-26 19:52:49+00:00</td>\n",
              "      <td>143</td>\n",
              "      <td>178.0</td>\n",
              "      <td>Policías infiltrados ?? Guillermo Lasso dement...</td>\n",
              "      <td>undercover cops    guillermo lasso insane psyc...</td>\n",
              "      <td>[0.08771168101917613, -0.028195467862215908, -...</td>\n",
              "      <td>1</td>\n",
              "      <td>-0.658333</td>\n",
              "    </tr>\n",
              "    <tr>\n",
              "      <th>5715</th>\n",
              "      <td>1453016746424770560</td>\n",
              "      <td>@radiolacalle #LassoEsUnFracasso #LassoEvasor ...</td>\n",
              "      <td>bladescorpio</td>\n",
              "      <td>2021-10-26 10:12:42+00:00</td>\n",
              "      <td>44</td>\n",
              "      <td>235.0</td>\n",
              "      <td>Lasso es un fracaso Lasso evasor gobierno mise...</td>\n",
              "      <td>lasso is a failure lasso evader miserable gove...</td>\n",
              "      <td>[0.14665440150669642, -0.0025809151785714285, ...</td>\n",
              "      <td>1</td>\n",
              "      <td>-0.658333</td>\n",
              "    </tr>\n",
              "    <tr>\n",
              "      <th>6969</th>\n",
              "      <td>1452913170373398531</td>\n",
              "      <td>@LassoGuillermo ERES UN HIPOCRITA, MISERABLE, ...</td>\n",
              "      <td>marthateresa</td>\n",
              "      <td>2021-10-26 03:21:08+00:00</td>\n",
              "      <td>1962</td>\n",
              "      <td>739.0</td>\n",
              "      <td>Guillermo Lasso ERES UN HIPOCRITA, MISERABLE, ...</td>\n",
              "      <td>guillermo lasso you are a hypochrite  miserabl...</td>\n",
              "      <td>[0.13757534684806033, -0.013823410560344827, -...</td>\n",
              "      <td>1</td>\n",
              "      <td>-0.633333</td>\n",
              "    </tr>\n",
              "    <tr>\n",
              "      <th>2844</th>\n",
              "      <td>1453152133537308676</td>\n",
              "      <td>@radio_pichincha @rociorevolucio1 #LassoCorrup...</td>\n",
              "      <td>DigVallejo</td>\n",
              "      <td>2021-10-26 19:10:41+00:00</td>\n",
              "      <td>599</td>\n",
              "      <td>196.0</td>\n",
              "      <td>Lasso Corrupto TIENE MIEDO</td>\n",
              "      <td>corrupted lasso is afraid</td>\n",
              "      <td>[0.15380096435546875, 0.01397705078125, -0.066...</td>\n",
              "      <td>1</td>\n",
              "      <td>-0.600000</td>\n",
              "    </tr>\n",
              "    <tr>\n",
              "      <th>3056</th>\n",
              "      <td>1453139847867154439</td>\n",
              "      <td>Son unos sons of your fucking beatch  #LassoEs...</td>\n",
              "      <td>alealemend</td>\n",
              "      <td>2021-10-26 18:21:52+00:00</td>\n",
              "      <td>133</td>\n",
              "      <td>901.0</td>\n",
              "      <td>Son unos sons of your fucking beatch Lasso es ...</td>\n",
              "      <td>son unos sons of your fucking beatch lasso es ...</td>\n",
              "      <td>[0.09797498914930555, -0.007893880208333334, -...</td>\n",
              "      <td>1</td>\n",
              "      <td>-0.600000</td>\n",
              "    </tr>\n",
              "    <tr>\n",
              "      <th>3014</th>\n",
              "      <td>1453141948114653184</td>\n",
              "      <td>Cínico #LassoMentiroso https://t.co/xX7L9oKupg</td>\n",
              "      <td>jaime_lm77</td>\n",
              "      <td>2021-10-26 18:30:13+00:00</td>\n",
              "      <td>170</td>\n",
              "      <td>308.0</td>\n",
              "      <td>Cínico Lasso mentiroso</td>\n",
              "      <td>cynical lasso liar</td>\n",
              "      <td>[0.2854817708333333, -0.005615234375, -0.07295...</td>\n",
              "      <td>1</td>\n",
              "      <td>-0.600000</td>\n",
              "    </tr>\n",
              "  </tbody>\n",
              "</table>\n",
              "</div>"
            ],
            "text/plain": [
              "                   id_str  ...  polarity\n",
              "3474  1453117975054192642  ... -1.000000\n",
              "3515  1453115738965819400  ... -1.000000\n",
              "4343  1453070474678784006  ... -1.000000\n",
              "2848  1453152028193087490  ... -1.000000\n",
              "4034  1453090122073845761  ... -0.900000\n",
              "6972  1452910232624148481  ... -0.658333\n",
              "5994  1453006227118727197  ... -0.658333\n",
              "7037  1452869614057177092  ... -0.658333\n",
              "2691  1453162738419740685  ... -0.658333\n",
              "5715  1453016746424770560  ... -0.658333\n",
              "6969  1452913170373398531  ... -0.633333\n",
              "2844  1453152133537308676  ... -0.600000\n",
              "3056  1453139847867154439  ... -0.600000\n",
              "3014  1453141948114653184  ... -0.600000\n",
              "\n",
              "[14 rows x 11 columns]"
            ]
          },
          "metadata": {},
          "execution_count": 43
        }
      ]
    },
    {
      "cell_type": "code",
      "metadata": {
        "id": "h5G9gXSjb4ie",
        "colab": {
          "base_uri": "https://localhost:8080/",
          "height": 206
        },
        "outputId": "dc42afe3-dc3c-4a69-8cb9-f861a8625e9a"
      },
      "source": [
        "edges = pd.read_csv('/content/edges.csv')\n",
        "edges.head()"
      ],
      "execution_count": null,
      "outputs": [
        {
          "output_type": "execute_result",
          "data": {
            "text/html": [
              "<div>\n",
              "<style scoped>\n",
              "    .dataframe tbody tr th:only-of-type {\n",
              "        vertical-align: middle;\n",
              "    }\n",
              "\n",
              "    .dataframe tbody tr th {\n",
              "        vertical-align: top;\n",
              "    }\n",
              "\n",
              "    .dataframe thead th {\n",
              "        text-align: right;\n",
              "    }\n",
              "</style>\n",
              "<table border=\"1\" class=\"dataframe\">\n",
              "  <thead>\n",
              "    <tr style=\"text-align: right;\">\n",
              "      <th></th>\n",
              "      <th>Source</th>\n",
              "      <th>Target</th>\n",
              "    </tr>\n",
              "  </thead>\n",
              "  <tbody>\n",
              "    <tr>\n",
              "      <th>0</th>\n",
              "      <td>DayanaSMRF</td>\n",
              "      <td>alealemend</td>\n",
              "    </tr>\n",
              "    <tr>\n",
              "      <th>1</th>\n",
              "      <td>LongoBello</td>\n",
              "      <td>alealemend</td>\n",
              "    </tr>\n",
              "    <tr>\n",
              "      <th>2</th>\n",
              "      <td>abrigo_vero</td>\n",
              "      <td>alealemend</td>\n",
              "    </tr>\n",
              "    <tr>\n",
              "      <th>3</th>\n",
              "      <td>Roberto31789948</td>\n",
              "      <td>alealemend</td>\n",
              "    </tr>\n",
              "    <tr>\n",
              "      <th>4</th>\n",
              "      <td>jean_vizueta96</td>\n",
              "      <td>alealemend</td>\n",
              "    </tr>\n",
              "  </tbody>\n",
              "</table>\n",
              "</div>"
            ],
            "text/plain": [
              "            Source      Target\n",
              "0       DayanaSMRF  alealemend\n",
              "1       LongoBello  alealemend\n",
              "2      abrigo_vero  alealemend\n",
              "3  Roberto31789948  alealemend\n",
              "4   jean_vizueta96  alealemend"
            ]
          },
          "metadata": {},
          "execution_count": 76
        }
      ]
    },
    {
      "cell_type": "code",
      "metadata": {
        "colab": {
          "base_uri": "https://localhost:8080/",
          "height": 206
        },
        "id": "xZxrt5E38vIG",
        "outputId": "c8f93e33-3e22-40a7-b94d-d03a1f32277d"
      },
      "source": [
        "nodes = list(set(edges['Source'].to_list() + edges['Target'].to_list()))\n",
        "nodes = pd.DataFrame({'Id':nodes})\n",
        "nodes.head()"
      ],
      "execution_count": null,
      "outputs": [
        {
          "output_type": "execute_result",
          "data": {
            "text/html": [
              "<div>\n",
              "<style scoped>\n",
              "    .dataframe tbody tr th:only-of-type {\n",
              "        vertical-align: middle;\n",
              "    }\n",
              "\n",
              "    .dataframe tbody tr th {\n",
              "        vertical-align: top;\n",
              "    }\n",
              "\n",
              "    .dataframe thead th {\n",
              "        text-align: right;\n",
              "    }\n",
              "</style>\n",
              "<table border=\"1\" class=\"dataframe\">\n",
              "  <thead>\n",
              "    <tr style=\"text-align: right;\">\n",
              "      <th></th>\n",
              "      <th>Id</th>\n",
              "    </tr>\n",
              "  </thead>\n",
              "  <tbody>\n",
              "    <tr>\n",
              "      <th>0</th>\n",
              "      <td>nachita41</td>\n",
              "    </tr>\n",
              "    <tr>\n",
              "      <th>1</th>\n",
              "      <td>longacualquiera</td>\n",
              "    </tr>\n",
              "    <tr>\n",
              "      <th>2</th>\n",
              "      <td>LatigoPueblo</td>\n",
              "    </tr>\n",
              "    <tr>\n",
              "      <th>3</th>\n",
              "      <td>VivianaVeloz18</td>\n",
              "    </tr>\n",
              "    <tr>\n",
              "      <th>4</th>\n",
              "      <td>panchoteran</td>\n",
              "    </tr>\n",
              "  </tbody>\n",
              "</table>\n",
              "</div>"
            ],
            "text/plain": [
              "                Id\n",
              "0        nachita41\n",
              "1  longacualquiera\n",
              "2     LatigoPueblo\n",
              "3   VivianaVeloz18\n",
              "4      panchoteran"
            ]
          },
          "metadata": {},
          "execution_count": 77
        }
      ]
    },
    {
      "cell_type": "code",
      "metadata": {
        "id": "WHlkPF5b9XE8"
      },
      "source": [
        "def get_cluster(user):\n",
        "  clusters = data[data['from_user'] == user]['clusters'].to_list()\n",
        "  if clusters != []:\n",
        "    df = data[data['from_user'] == 'DayanaSMRF'][['from_user', 'clusters']].groupby('clusters', as_index=False).count().sort_values(by='from_user').reset_index()\n",
        "    return df['clusters'][0]\n",
        "  return ''"
      ],
      "execution_count": null,
      "outputs": []
    },
    {
      "cell_type": "code",
      "metadata": {
        "colab": {
          "base_uri": "https://localhost:8080/",
          "height": 81
        },
        "id": "tqoB4vSn9gRi",
        "outputId": "4f7be268-8d6b-40de-8700-c935b2733948"
      },
      "source": [
        "df = data[data['from_user'] == 'DayanaSMRF'][['from_user', 'clusters']].groupby('clusters', as_index=False).count().sort_values(by='from_user').reset_index()"
      ],
      "execution_count": null,
      "outputs": [
        {
          "output_type": "execute_result",
          "data": {
            "text/html": [
              "<div>\n",
              "<style scoped>\n",
              "    .dataframe tbody tr th:only-of-type {\n",
              "        vertical-align: middle;\n",
              "    }\n",
              "\n",
              "    .dataframe tbody tr th {\n",
              "        vertical-align: top;\n",
              "    }\n",
              "\n",
              "    .dataframe thead th {\n",
              "        text-align: right;\n",
              "    }\n",
              "</style>\n",
              "<table border=\"1\" class=\"dataframe\">\n",
              "  <thead>\n",
              "    <tr style=\"text-align: right;\">\n",
              "      <th></th>\n",
              "      <th>index</th>\n",
              "      <th>clusters</th>\n",
              "      <th>from_user</th>\n",
              "    </tr>\n",
              "  </thead>\n",
              "  <tbody>\n",
              "    <tr>\n",
              "      <th>0</th>\n",
              "      <td>0</td>\n",
              "      <td>1</td>\n",
              "      <td>1</td>\n",
              "    </tr>\n",
              "  </tbody>\n",
              "</table>\n",
              "</div>"
            ],
            "text/plain": [
              "   index  clusters  from_user\n",
              "0      0         1          1"
            ]
          },
          "metadata": {},
          "execution_count": 63
        }
      ]
    },
    {
      "cell_type": "code",
      "metadata": {
        "colab": {
          "base_uri": "https://localhost:8080/",
          "height": 677
        },
        "id": "YYJeNCya_lhB",
        "outputId": "a19c9f0f-5e82-4a0b-89dd-a01833aea147"
      },
      "source": [
        "nodes['clusters'] = nodes['Id'].apply(get_cluster)\n",
        "nodes.head(20)"
      ],
      "execution_count": null,
      "outputs": [
        {
          "output_type": "execute_result",
          "data": {
            "text/html": [
              "<div>\n",
              "<style scoped>\n",
              "    .dataframe tbody tr th:only-of-type {\n",
              "        vertical-align: middle;\n",
              "    }\n",
              "\n",
              "    .dataframe tbody tr th {\n",
              "        vertical-align: top;\n",
              "    }\n",
              "\n",
              "    .dataframe thead th {\n",
              "        text-align: right;\n",
              "    }\n",
              "</style>\n",
              "<table border=\"1\" class=\"dataframe\">\n",
              "  <thead>\n",
              "    <tr style=\"text-align: right;\">\n",
              "      <th></th>\n",
              "      <th>Id</th>\n",
              "      <th>clusters</th>\n",
              "    </tr>\n",
              "  </thead>\n",
              "  <tbody>\n",
              "    <tr>\n",
              "      <th>0</th>\n",
              "      <td>nachita41</td>\n",
              "      <td></td>\n",
              "    </tr>\n",
              "    <tr>\n",
              "      <th>1</th>\n",
              "      <td>longacualquiera</td>\n",
              "      <td></td>\n",
              "    </tr>\n",
              "    <tr>\n",
              "      <th>2</th>\n",
              "      <td>LatigoPueblo</td>\n",
              "      <td>1</td>\n",
              "    </tr>\n",
              "    <tr>\n",
              "      <th>3</th>\n",
              "      <td>VivianaVeloz18</td>\n",
              "      <td>1</td>\n",
              "    </tr>\n",
              "    <tr>\n",
              "      <th>4</th>\n",
              "      <td>panchoteran</td>\n",
              "      <td></td>\n",
              "    </tr>\n",
              "    <tr>\n",
              "      <th>5</th>\n",
              "      <td>EstebanGuacales</td>\n",
              "      <td></td>\n",
              "    </tr>\n",
              "    <tr>\n",
              "      <th>6</th>\n",
              "      <td>IsmaelJ64748508</td>\n",
              "      <td></td>\n",
              "    </tr>\n",
              "    <tr>\n",
              "      <th>7</th>\n",
              "      <td>CampoverdePatty</td>\n",
              "      <td></td>\n",
              "    </tr>\n",
              "    <tr>\n",
              "      <th>8</th>\n",
              "      <td>carlosoporto</td>\n",
              "      <td></td>\n",
              "    </tr>\n",
              "    <tr>\n",
              "      <th>9</th>\n",
              "      <td>MryRodrguez4</td>\n",
              "      <td></td>\n",
              "    </tr>\n",
              "    <tr>\n",
              "      <th>10</th>\n",
              "      <td>jpestaonline</td>\n",
              "      <td></td>\n",
              "    </tr>\n",
              "    <tr>\n",
              "      <th>11</th>\n",
              "      <td>RichardCarapazM</td>\n",
              "      <td></td>\n",
              "    </tr>\n",
              "    <tr>\n",
              "      <th>12</th>\n",
              "      <td>MartinezMolinaM</td>\n",
              "      <td>1</td>\n",
              "    </tr>\n",
              "    <tr>\n",
              "      <th>13</th>\n",
              "      <td>danloga14</td>\n",
              "      <td>1</td>\n",
              "    </tr>\n",
              "    <tr>\n",
              "      <th>14</th>\n",
              "      <td>QuitoKarting</td>\n",
              "      <td></td>\n",
              "    </tr>\n",
              "    <tr>\n",
              "      <th>15</th>\n",
              "      <td>PIGUAVEGILMAR</td>\n",
              "      <td></td>\n",
              "    </tr>\n",
              "    <tr>\n",
              "      <th>16</th>\n",
              "      <td>LeonelA69203317</td>\n",
              "      <td></td>\n",
              "    </tr>\n",
              "    <tr>\n",
              "      <th>17</th>\n",
              "      <td>Romelefren</td>\n",
              "      <td></td>\n",
              "    </tr>\n",
              "    <tr>\n",
              "      <th>18</th>\n",
              "      <td>Orvasquez82</td>\n",
              "      <td></td>\n",
              "    </tr>\n",
              "    <tr>\n",
              "      <th>19</th>\n",
              "      <td>Simlish4</td>\n",
              "      <td></td>\n",
              "    </tr>\n",
              "  </tbody>\n",
              "</table>\n",
              "</div>"
            ],
            "text/plain": [
              "                 Id clusters\n",
              "0         nachita41         \n",
              "1   longacualquiera         \n",
              "2      LatigoPueblo        1\n",
              "3    VivianaVeloz18        1\n",
              "4       panchoteran         \n",
              "5   EstebanGuacales         \n",
              "6   IsmaelJ64748508         \n",
              "7   CampoverdePatty         \n",
              "8      carlosoporto         \n",
              "9      MryRodrguez4         \n",
              "10     jpestaonline         \n",
              "11  RichardCarapazM         \n",
              "12  MartinezMolinaM        1\n",
              "13        danloga14        1\n",
              "14     QuitoKarting         \n",
              "15    PIGUAVEGILMAR         \n",
              "16  LeonelA69203317         \n",
              "17       Romelefren         \n",
              "18      Orvasquez82         \n",
              "19         Simlish4         "
            ]
          },
          "metadata": {},
          "execution_count": 82
        }
      ]
    },
    {
      "cell_type": "code",
      "metadata": {
        "colab": {
          "base_uri": "https://localhost:8080/",
          "height": 424
        },
        "id": "tG0UGDhBAAUG",
        "outputId": "957113de-c87e-4531-b03b-0655f2103918"
      },
      "source": [
        "nodes[nodes['clusters'] != '']"
      ],
      "execution_count": null,
      "outputs": [
        {
          "output_type": "execute_result",
          "data": {
            "text/html": [
              "<div>\n",
              "<style scoped>\n",
              "    .dataframe tbody tr th:only-of-type {\n",
              "        vertical-align: middle;\n",
              "    }\n",
              "\n",
              "    .dataframe tbody tr th {\n",
              "        vertical-align: top;\n",
              "    }\n",
              "\n",
              "    .dataframe thead th {\n",
              "        text-align: right;\n",
              "    }\n",
              "</style>\n",
              "<table border=\"1\" class=\"dataframe\">\n",
              "  <thead>\n",
              "    <tr style=\"text-align: right;\">\n",
              "      <th></th>\n",
              "      <th>Id</th>\n",
              "      <th>clusters</th>\n",
              "    </tr>\n",
              "  </thead>\n",
              "  <tbody>\n",
              "    <tr>\n",
              "      <th>2</th>\n",
              "      <td>LatigoPueblo</td>\n",
              "      <td>1</td>\n",
              "    </tr>\n",
              "    <tr>\n",
              "      <th>3</th>\n",
              "      <td>VivianaVeloz18</td>\n",
              "      <td>1</td>\n",
              "    </tr>\n",
              "    <tr>\n",
              "      <th>12</th>\n",
              "      <td>MartinezMolinaM</td>\n",
              "      <td>1</td>\n",
              "    </tr>\n",
              "    <tr>\n",
              "      <th>13</th>\n",
              "      <td>danloga14</td>\n",
              "      <td>1</td>\n",
              "    </tr>\n",
              "    <tr>\n",
              "      <th>20</th>\n",
              "      <td>qrlhec</td>\n",
              "      <td>1</td>\n",
              "    </tr>\n",
              "    <tr>\n",
              "      <th>...</th>\n",
              "      <td>...</td>\n",
              "      <td>...</td>\n",
              "    </tr>\n",
              "    <tr>\n",
              "      <th>724</th>\n",
              "      <td>ismafolk</td>\n",
              "      <td>1</td>\n",
              "    </tr>\n",
              "    <tr>\n",
              "      <th>748</th>\n",
              "      <td>ErnstDam</td>\n",
              "      <td>1</td>\n",
              "    </tr>\n",
              "    <tr>\n",
              "      <th>751</th>\n",
              "      <td>Carol2311921</td>\n",
              "      <td>1</td>\n",
              "    </tr>\n",
              "    <tr>\n",
              "      <th>759</th>\n",
              "      <td>Laespadadeboli3</td>\n",
              "      <td>1</td>\n",
              "    </tr>\n",
              "    <tr>\n",
              "      <th>764</th>\n",
              "      <td>DayanaSMRF</td>\n",
              "      <td>1</td>\n",
              "    </tr>\n",
              "  </tbody>\n",
              "</table>\n",
              "<p>87 rows × 2 columns</p>\n",
              "</div>"
            ],
            "text/plain": [
              "                  Id clusters\n",
              "2       LatigoPueblo        1\n",
              "3     VivianaVeloz18        1\n",
              "12   MartinezMolinaM        1\n",
              "13         danloga14        1\n",
              "20            qrlhec        1\n",
              "..               ...      ...\n",
              "724         ismafolk        1\n",
              "748         ErnstDam        1\n",
              "751     Carol2311921        1\n",
              "759  Laespadadeboli3        1\n",
              "764       DayanaSMRF        1\n",
              "\n",
              "[87 rows x 2 columns]"
            ]
          },
          "metadata": {},
          "execution_count": 83
        }
      ]
    },
    {
      "cell_type": "code",
      "metadata": {
        "id": "j-M7xjwGAsnk"
      },
      "source": [
        "nodes.to_csv('/content/nodes.csv', sep=',', index=False)"
      ],
      "execution_count": null,
      "outputs": []
    }
  ]
}