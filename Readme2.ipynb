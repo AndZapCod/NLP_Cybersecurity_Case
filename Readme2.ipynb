{
 "cells": [
  {
   "cell_type": "code",
   "execution_count": null,
   "id": "16291ddb",
   "metadata": {},
   "outputs": [],
   "source": [
    "# NLP_Cybersecurity_Case"
   ]
  },
  {
   "cell_type": "markdown",
   "id": "5dca055d",
   "metadata": {},
   "source": [
    "This is repository associated to the paper \"An NLP-based pipeline to spot extremist networks in social media\""
   ]
  },
  {
   "cell_type": "code",
   "execution_count": null,
   "id": "fc5f234e",
   "metadata": {},
   "outputs": [],
   "source": [
    "Description of files:\n",
    "    Folfer \"Data\":\n",
    "            clean_text.t"
   ]
  }
 ],
 "metadata": {
  "kernelspec": {
   "display_name": "Python 3 (ipykernel)",
   "language": "python",
   "name": "python3"
  },
  "language_info": {
   "codemirror_mode": {
    "name": "ipython",
    "version": 3
   },
   "file_extension": ".py",
   "mimetype": "text/x-python",
   "name": "python",
   "nbconvert_exporter": "python",
   "pygments_lexer": "ipython3",
   "version": "3.10.10"
  },
  "toc": {
   "base_numbering": 1,
   "nav_menu": {},
   "number_sections": true,
   "sideBar": true,
   "skip_h1_title": false,
   "title_cell": "Table of Contents",
   "title_sidebar": "Contents",
   "toc_cell": false,
   "toc_position": {},
   "toc_section_display": true,
   "toc_window_display": false
  }
 },
 "nbformat": 4,
 "nbformat_minor": 5
}
