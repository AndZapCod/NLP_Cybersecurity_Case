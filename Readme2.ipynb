{
 "cells": [
  {
   "cell_type": "markdown",
   "id": "fbb1c32b",
   "metadata": {},
   "source": [
    "# NLP_Cybersecurity_Case"
   ]
  },
  {
   "cell_type": "markdown",
   "id": "ffbaa14f",
   "metadata": {},
   "source": [
    "This is the repository associated to the paper \"An NLP-based pipeline to spot extremist networks in social media\""
   ]
  },
  {
   "cell_type": "markdown",
   "id": "53760cd9",
   "metadata": {},
   "source": [
    "# Quick Start\n",
    "\n",
    "If you want to try the components of the architecture proposed in the paper you may refer to the following file description to identify the one that you are instested on.\n",
    "\n",
    "Description of files included in the repository:\n",
    "\n",
    "1. Folder \"Data\": It contains the inputs of the architecture.\n",
    "\n",
    "    * Ecuador_26-27Oct2021.tsv: It contains the original 10,609 Spanish tweets collected between October 26 and October 27 2021\n",
    "    * clean_text.tsv: It contains 7,796 tweets after the preprocessing phase has been applied over the collected tweets\n",
    " \n",
    " \n",
    "2. Folder \"NER\": It contains the code used to build the NER model defined in the \"modeling\" phase.\n",
    "\n",
    "    * utils.py: It contains 3 functions to:\n",
    "        * Split a datset in training/testing/validation according to percents defined for each purpose.\n",
    "        * Calculate the accuracy of a model\n",
    "        * Train a model \n",
    "    * dataset.py: It contains the class to define a corpus and its associated methods. It uses a diccionary (NER/data/dics.pkl)\n",
    "    * bilstmcrf.py: It contains the class to define a BiLSTM architecture and its associated methods\n",
    "    * train.py: Orchestrator that read a dataset (NER/data/corpus.pkl), generate a training/testing/validation datasets, define the parameters of a model, optimizer and finally train the model. It uses the methods defined in utils.py, dataset.py and bilstmcrf.py\n",
    "\n",
    "\n",
    "3. Folder \"Preprocessing\":It contains the code used to in the \"preprocessing\" phase.\n",
    "\n",
    "    * utils.py: It contains 4 functions to:\n",
    "        * Convert from string to date format\n",
    "        * Remove URLs, mentions, hashtags and reserved words from tweets\n",
    "        * Set empty values as NAN\n",
    "        * Translate text from Spanish to English using Google Translate service\n",
    "    * translation.py: It translates the cleaned text available in data/clean_text.tsv and store the result in data/translated_tweets.tsv\n",
    "    * clean_text.py: It reads the original Spanish tweets available at data/Ecuador_26-27Oct2021.tsv, then preprocess them using the functions available in utils.py, generate a histogram for tweets published along a time serie (Img/timeserie.pdf), and store the clean tweets in /data/clean_text.tsv  \n",
    "    \n",
    "    \n",
    "    \n",
    "                "
   ]
  },
  {
   "cell_type": "markdown",
   "id": "116bea61",
   "metadata": {},
   "source": [
    "# FAQS\n",
    "\n",
    "1. What are the requirements to run the code available in the project?\n",
    "\n",
    "    R/ Each component (preprocessing, modeling) has special requirements. You may consult a full list of requirements in the file requirements.txt at the project root.\n",
    "\n",
    "\n",
    "2. What is the architecture of the solution?\n",
    "\n",
    "    R/ You may find the architecture and a full description of it in the paper. Here we show it as reference:\n",
    "    "
   ]
  },
  {
   "cell_type": "markdown",
   "id": "b5ba0b74",
   "metadata": {},
   "source": [
    "<center>\n",
    "<figure>\n",
    "    <img src=\"images/Architecture_flat.png\" width=\"100%\" height=\"100%\">\n",
    "    <figcaption>Components of the proposed NLP-based framework</figcaption>\n",
    "</figure>\n",
    "</center>"
   ]
  }
 ],
 "metadata": {
  "kernelspec": {
   "display_name": "Python 3 (ipykernel)",
   "language": "python",
   "name": "python3"
  },
  "language_info": {
   "codemirror_mode": {
    "name": "ipython",
    "version": 3
   },
   "file_extension": ".py",
   "mimetype": "text/x-python",
   "name": "python",
   "nbconvert_exporter": "python",
   "pygments_lexer": "ipython3",
   "version": "3.10.10"
  },
  "toc": {
   "base_numbering": 1,
   "nav_menu": {},
   "number_sections": true,
   "sideBar": true,
   "skip_h1_title": false,
   "title_cell": "Table of Contents",
   "title_sidebar": "Contents",
   "toc_cell": false,
   "toc_position": {},
   "toc_section_display": true,
   "toc_window_display": false
  }
 },
 "nbformat": 4,
 "nbformat_minor": 5
}
